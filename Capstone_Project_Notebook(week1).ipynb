{
    "cells": [
        {
            "cell_type": "markdown",
            "metadata": {
                "collapsed": true
            },
            "source": "# This notebook was created as a requirement of the Applied Data Science Capstone peer graded assignment (week1)"
        },
        {
            "cell_type": "markdown",
            "metadata": {},
            "source": "## My submission"
        },
        {
            "cell_type": "markdown",
            "metadata": {},
            "source": "Create a new repository on your Github account and name it Coursera_Capstone. I have prepared a guide to walk you through the process of creating a repository and setting it up. For Mac users, click here. For Windows users, click here.\n\nNow, start a Jupyter Notebook using any platform that you are comfortable with and do the following:\n\n1. Write some markdown to explain that this notebook will be mainly used for the capstone project.\n1. Import the pandas library as pd.\n1. Import the Numpy library as np.\n1. Print the following the statement: Hello Capstone Project Course!\n1. Push the Notebook to your Github repository and submit a link to the notebook on your Github repository."
        },
        {
            "cell_type": "markdown",
            "metadata": {},
            "source": "### Import the required libraries"
        },
        {
            "cell_type": "code",
            "execution_count": 2,
            "metadata": {},
            "outputs": [],
            "source": "import pandas as pd\nimport numpy as np"
        },
        {
            "cell_type": "markdown",
            "metadata": {},
            "source": "### Print the following the statement: Hello Capstone Project Course!"
        },
        {
            "cell_type": "code",
            "execution_count": 3,
            "metadata": {},
            "outputs": [
                {
                    "name": "stdout",
                    "output_type": "stream",
                    "text": "Hello Capstone Project Course!\n"
                }
            ],
            "source": "print(\"Hello Capstone Project Course!\")"
        },
        {
            "cell_type": "code",
            "execution_count": null,
            "metadata": {},
            "outputs": [],
            "source": ""
        }
    ],
    "metadata": {
        "kernelspec": {
            "display_name": "Python 3.6",
            "language": "python",
            "name": "python3"
        },
        "language_info": {
            "codemirror_mode": {
                "name": "ipython",
                "version": 3
            },
            "file_extension": ".py",
            "mimetype": "text/x-python",
            "name": "python",
            "nbconvert_exporter": "python",
            "pygments_lexer": "ipython3",
            "version": "3.6.9"
        }
    },
    "nbformat": 4,
    "nbformat_minor": 1
}