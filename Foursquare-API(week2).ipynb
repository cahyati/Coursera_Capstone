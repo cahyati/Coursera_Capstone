{
    "cells": [
        {
            "cell_type": "markdown",
            "metadata": {
                "button": false,
                "new_sheet": false,
                "run_control": {
                    "read_only": false
                }
            },
            "source": "<a href=\"https://cognitiveclass.ai\"><img src = \"https://ibm.box.com/shared/static/9gegpsmnsoo25ikkbl4qzlvlyjbgxs5x.png\" width = 400> </a>\n\n<h1 align=center><font size = 5>Learning FourSquare API with Python</font></h1>"
        },
        {
            "cell_type": "markdown",
            "metadata": {
                "button": false,
                "new_sheet": false,
                "run_control": {
                    "read_only": false
                }
            },
            "source": "   "
        },
        {
            "cell_type": "markdown",
            "metadata": {
                "button": false,
                "new_sheet": false,
                "run_control": {
                    "read_only": false
                }
            },
            "source": "## Introduction\n\nIn this lab, you will learn in details how to make calls to the Foursquare API for different purposes. You will learn how to construct a URL to send a request to the API to search for a specific type of venues, to explore a particular venue, to explore a Foursquare user, to explore a geographical location, and to get trending venues around a location. Also, you will learn how to use the visualization library, Folium, to visualize the results."
        },
        {
            "cell_type": "markdown",
            "metadata": {
                "button": false,
                "new_sheet": false,
                "run_control": {
                    "read_only": false
                }
            },
            "source": "## Table of Contents\n\n1. <a href=\"#item1\">Foursquare API Search Function</a>\n2. <a href=\"#item2\">Explore a Given Venue</a>  \n3. <a href=\"#item3\">Explore a User</a>  \n4. <a href=\"#item4\">Foursquare API Explore Function</a>  \n5. <a href=\"#item5\">Get Trending Venues</a>  "
        },
        {
            "cell_type": "markdown",
            "metadata": {
                "button": false,
                "new_sheet": false,
                "run_control": {
                    "read_only": false
                }
            },
            "source": "### Import necessary Libraries"
        },
        {
            "cell_type": "code",
            "execution_count": 1,
            "metadata": {
                "button": false,
                "new_sheet": false,
                "run_control": {
                    "read_only": false
                },
                "scrolled": true
            },
            "outputs": [
                {
                    "name": "stdout",
                    "output_type": "stream",
                    "text": "Solving environment: done\n\n## Package Plan ##\n\n  environment location: /opt/conda/envs/Python36\n\n  added / updated specs: \n    - geopy\n\n\nThe following packages will be downloaded:\n\n    package                    |            build\n    ---------------------------|-----------------\n    openssl-1.1.1g             |       h516909a_0         2.1 MB  conda-forge\n    geopy-1.22.0               |     pyh9f0ad1d_0          63 KB  conda-forge\n    geographiclib-1.50         |             py_0          34 KB  conda-forge\n    ca-certificates-2020.4.5.1 |       hecc5488_0         146 KB  conda-forge\n    python_abi-3.6             |          1_cp36m           4 KB  conda-forge\n    certifi-2020.4.5.1         |   py36h9f0ad1d_0         151 KB  conda-forge\n    ------------------------------------------------------------\n                                           Total:         2.5 MB\n\nThe following NEW packages will be INSTALLED:\n\n    geographiclib:   1.50-py_0           conda-forge\n    geopy:           1.22.0-pyh9f0ad1d_0 conda-forge\n    python_abi:      3.6-1_cp36m         conda-forge\n\nThe following packages will be UPDATED:\n\n    ca-certificates: 2020.1.1-0                      --> 2020.4.5.1-hecc5488_0     conda-forge\n    certifi:         2020.4.5.1-py36_0               --> 2020.4.5.1-py36h9f0ad1d_0 conda-forge\n    openssl:         1.1.1g-h7b6447c_0               --> 1.1.1g-h516909a_0         conda-forge\n\n\nDownloading and Extracting Packages\nopenssl-1.1.1g       | 2.1 MB    | ##################################### | 100% \ngeopy-1.22.0         | 63 KB     | ##################################### | 100% \ngeographiclib-1.50   | 34 KB     | ##################################### | 100% \nca-certificates-2020 | 146 KB    | ##################################### | 100% \npython_abi-3.6       | 4 KB      | ##################################### | 100% \ncertifi-2020.4.5.1   | 151 KB    | ##################################### | 100% \nPreparing transaction: done\nVerifying transaction: done\nExecuting transaction: done\nSolving environment: done\n\n## Package Plan ##\n\n  environment location: /opt/conda/envs/Python36\n\n  added / updated specs: \n    - folium=0.5.0\n\n\nThe following packages will be downloaded:\n\n    package                    |            build\n    ---------------------------|-----------------\n    vincent-0.4.4              |             py_1          28 KB  conda-forge\n    altair-4.1.0               |             py_1         614 KB  conda-forge\n    folium-0.5.0               |             py_0          45 KB  conda-forge\n    branca-0.4.1               |             py_0          26 KB  conda-forge\n    ------------------------------------------------------------\n                                           Total:         713 KB\n\nThe following NEW packages will be INSTALLED:\n\n    altair:  4.1.0-py_1 conda-forge\n    branca:  0.4.1-py_0 conda-forge\n    folium:  0.5.0-py_0 conda-forge\n    vincent: 0.4.4-py_1 conda-forge\n\n\nDownloading and Extracting Packages\nvincent-0.4.4        | 28 KB     | ##################################### | 100% \naltair-4.1.0         | 614 KB    | ##################################### | 100% \nfolium-0.5.0         | 45 KB     | ##################################### | 100% \nbranca-0.4.1         | 26 KB     | ##################################### | 100% \nPreparing transaction: done\nVerifying transaction: done\nExecuting transaction: done\nFolium installed\nLibraries imported.\n"
                }
            ],
            "source": "import requests # library to handle requests\nimport pandas as pd # library for data analsysis\nimport numpy as np # library to handle data in a vectorized manner\nimport random # library for random number generation\n\n!conda install -c conda-forge geopy --yes \nfrom geopy.geocoders import Nominatim # module to convert an address into latitude and longitude values\n\n# libraries for displaying images\nfrom IPython.display import Image \nfrom IPython.core.display import HTML \n    \n# tranforming json file into a pandas dataframe library\nfrom pandas.io.json import json_normalize\n\n!conda install -c conda-forge folium=0.5.0 --yes\nimport folium # plotting library\n\nprint('Folium installed')\nprint('Libraries imported.')"
        },
        {
            "cell_type": "markdown",
            "metadata": {
                "button": false,
                "new_sheet": false,
                "run_control": {
                    "read_only": false
                }
            },
            "source": "### Define Foursquare Credentials and Version"
        },
        {
            "cell_type": "markdown",
            "metadata": {
                "button": false,
                "new_sheet": false,
                "run_control": {
                    "read_only": false
                }
            },
            "source": "##### Make sure that you have created a Foursquare developer account and have your credentials handy"
        },
        {
            "cell_type": "code",
            "execution_count": 2,
            "metadata": {
                "button": false,
                "new_sheet": false,
                "run_control": {
                    "read_only": false
                }
            },
            "outputs": [
                {
                    "name": "stdout",
                    "output_type": "stream",
                    "text": "Your credentails:\nCLIENT_ID: EZUCSVCTPAWJTAGVHIP2GM5LHRXH03D54VXUUPECMO2AAFQV\nCLIENT_SECRET:KE4C1V0NGPXD5HTFDU34XHG0DPNNFVMK34EWOFLFBUU20QOQ\n"
                }
            ],
            "source": "CLIENT_ID = 'EZUCSVCTPAWJTAGVHIP2GM5LHRXH03D54VXUUPECMO2AAFQV' # your Foursquare ID\nCLIENT_SECRET = 'KE4C1V0NGPXD5HTFDU34XHG0DPNNFVMK34EWOFLFBUU20QOQ' # your Foursquare Secret\nVERSION = '20180604'\nLIMIT = 30\nprint('Your credentails:')\nprint('CLIENT_ID: ' + CLIENT_ID)\nprint('CLIENT_SECRET:' + CLIENT_SECRET)"
        },
        {
            "cell_type": "markdown",
            "metadata": {
                "button": false,
                "new_sheet": false,
                "run_control": {
                    "read_only": false
                }
            },
            "source": "  "
        },
        {
            "cell_type": "markdown",
            "metadata": {
                "button": false,
                "new_sheet": false,
                "run_control": {
                    "read_only": false
                }
            },
            "source": "#### Let's again assume that you are staying at the Conrad hotel. So let's start by converting the Contrad Hotel's address to its latitude and longitude coordinates."
        },
        {
            "cell_type": "markdown",
            "metadata": {},
            "source": "In order to define an instance of the geocoder, we need to define a user_agent. We will name our agent <em>foursquare_agent</em>, as shown below."
        },
        {
            "cell_type": "code",
            "execution_count": 3,
            "metadata": {
                "button": false,
                "new_sheet": false,
                "run_control": {
                    "read_only": false
                }
            },
            "outputs": [
                {
                    "name": "stdout",
                    "output_type": "stream",
                    "text": "40.7151482 -74.0156573\n"
                }
            ],
            "source": "address = '102 North End Ave, New York, NY'\n\ngeolocator = Nominatim(user_agent=\"foursquare_agent\")\nlocation = geolocator.geocode(address)\nlatitude = location.latitude\nlongitude = location.longitude\nprint(latitude, longitude)"
        },
        {
            "cell_type": "markdown",
            "metadata": {
                "button": false,
                "new_sheet": false,
                "run_control": {
                    "read_only": false
                }
            },
            "source": "   "
        },
        {
            "cell_type": "markdown",
            "metadata": {
                "button": false,
                "new_sheet": false,
                "run_control": {
                    "read_only": false
                }
            },
            "source": "<a id=\"item1\"></a>"
        },
        {
            "cell_type": "markdown",
            "metadata": {
                "button": false,
                "new_sheet": false,
                "run_control": {
                    "read_only": false
                }
            },
            "source": "## 1. Search for a specific venue category\n> `https://api.foursquare.com/v2/venues/`**search**`?client_id=`**CLIENT_ID**`&client_secret=`**CLIENT_SECRET**`&ll=`**LATITUDE**`,`**LONGITUDE**`&v=`**VERSION**`&query=`**QUERY**`&radius=`**RADIUS**`&limit=`**LIMIT**"
        },
        {
            "cell_type": "markdown",
            "metadata": {
                "button": false,
                "new_sheet": false,
                "run_control": {
                    "read_only": false
                }
            },
            "source": "#### Now, let's assume that it is lunch time, and you are craving Italian food. So, let's define a query to search for Italian food that is within 500 metres from the Conrad Hotel. "
        },
        {
            "cell_type": "code",
            "execution_count": 4,
            "metadata": {
                "button": false,
                "new_sheet": false,
                "run_control": {
                    "read_only": false
                },
                "scrolled": true
            },
            "outputs": [
                {
                    "name": "stdout",
                    "output_type": "stream",
                    "text": "Italian .... OK!\n"
                }
            ],
            "source": "search_query = 'Italian'\nradius = 500\nprint(search_query + ' .... OK!')"
        },
        {
            "cell_type": "markdown",
            "metadata": {
                "button": false,
                "new_sheet": false,
                "run_control": {
                    "read_only": false
                }
            },
            "source": "#### Define the corresponding URL"
        },
        {
            "cell_type": "code",
            "execution_count": 5,
            "metadata": {
                "button": false,
                "new_sheet": false,
                "run_control": {
                    "read_only": false
                }
            },
            "outputs": [
                {
                    "data": {
                        "text/plain": "'https://api.foursquare.com/v2/venues/search?client_id=EZUCSVCTPAWJTAGVHIP2GM5LHRXH03D54VXUUPECMO2AAFQV&client_secret=KE4C1V0NGPXD5HTFDU34XHG0DPNNFVMK34EWOFLFBUU20QOQ&ll=40.7151482,-74.0156573&v=20180604&query=Italian&radius=500&limit=30'"
                    },
                    "execution_count": 5,
                    "metadata": {},
                    "output_type": "execute_result"
                }
            ],
            "source": "url = 'https://api.foursquare.com/v2/venues/search?client_id={}&client_secret={}&ll={},{}&v={}&query={}&radius={}&limit={}'.format(CLIENT_ID, CLIENT_SECRET, latitude, longitude, VERSION, search_query, radius, LIMIT)\nurl"
        },
        {
            "cell_type": "markdown",
            "metadata": {
                "button": false,
                "new_sheet": false,
                "run_control": {
                    "read_only": false
                }
            },
            "source": "#### Send the GET Request and examine the results"
        },
        {
            "cell_type": "code",
            "execution_count": 6,
            "metadata": {
                "button": false,
                "new_sheet": false,
                "run_control": {
                    "read_only": false
                },
                "scrolled": true
            },
            "outputs": [
                {
                    "data": {
                        "text/plain": "{'meta': {'code': 200, 'requestId': '5ec150330be7b4001ba937f2'},\n 'response': {'venues': [{'id': '4fa862b3e4b0ebff2f749f06',\n    'name': \"Harry's Italian Pizza Bar\",\n    'location': {'address': '225 Murray St',\n     'lat': 40.71521779064671,\n     'lng': -74.01473940209351,\n     'labeledLatLngs': [{'label': 'display',\n       'lat': 40.71521779064671,\n       'lng': -74.01473940209351},\n      {'label': 'entrance', 'lat': 40.715361, 'lng': -74.014975}],\n     'distance': 77,\n     'postalCode': '10282',\n     'cc': 'US',\n     'city': 'New York',\n     'state': 'NY',\n     'country': 'United States',\n     'formattedAddress': ['225 Murray St',\n      'New York, NY 10282',\n      'United States']},\n    'categories': [{'id': '4bf58dd8d48988d1ca941735',\n      'name': 'Pizza Place',\n      'pluralName': 'Pizza Places',\n      'shortName': 'Pizza',\n      'icon': {'prefix': 'https://ss3.4sqi.net/img/categories_v2/food/pizza_',\n       'suffix': '.png'},\n      'primary': True}],\n    'referralId': 'v-1589727290',\n    'hasPerk': False},\n   {'id': '4f3232e219836c91c7bfde94',\n    'name': 'Conca Cucina Italian Restaurant',\n    'location': {'address': '63 W Broadway',\n     'lat': 40.714484000000006,\n     'lng': -74.00980600000001,\n     'labeledLatLngs': [{'label': 'display',\n       'lat': 40.714484000000006,\n       'lng': -74.00980600000001}],\n     'distance': 499,\n     'postalCode': '10007',\n     'cc': 'US',\n     'city': 'New York',\n     'state': 'NY',\n     'country': 'United States',\n     'formattedAddress': ['63 W Broadway',\n      'New York, NY 10007',\n      'United States']},\n    'categories': [{'id': '4d4b7105d754a06374d81259',\n      'name': 'Food',\n      'pluralName': 'Food',\n      'shortName': 'Food',\n      'icon': {'prefix': 'https://ss3.4sqi.net/img/categories_v2/food/default_',\n       'suffix': '.png'},\n      'primary': True}],\n    'referralId': 'v-1589727290',\n    'hasPerk': False}]}}"
                    },
                    "execution_count": 6,
                    "metadata": {},
                    "output_type": "execute_result"
                }
            ],
            "source": "results = requests.get(url).json()\nresults"
        },
        {
            "cell_type": "markdown",
            "metadata": {
                "button": false,
                "new_sheet": false,
                "run_control": {
                    "read_only": false
                }
            },
            "source": "#### Get relevant part of JSON and transform it into a *pandas* dataframe"
        },
        {
            "cell_type": "code",
            "execution_count": 7,
            "metadata": {
                "button": false,
                "new_sheet": false,
                "run_control": {
                    "read_only": false
                }
            },
            "outputs": [
                {
                    "data": {
                        "text/html": "<div>\n<style scoped>\n    .dataframe tbody tr th:only-of-type {\n        vertical-align: middle;\n    }\n\n    .dataframe tbody tr th {\n        vertical-align: top;\n    }\n\n    .dataframe thead th {\n        text-align: right;\n    }\n</style>\n<table border=\"1\" class=\"dataframe\">\n  <thead>\n    <tr style=\"text-align: right;\">\n      <th></th>\n      <th>categories</th>\n      <th>hasPerk</th>\n      <th>id</th>\n      <th>location.address</th>\n      <th>location.cc</th>\n      <th>location.city</th>\n      <th>location.country</th>\n      <th>location.distance</th>\n      <th>location.formattedAddress</th>\n      <th>location.labeledLatLngs</th>\n      <th>location.lat</th>\n      <th>location.lng</th>\n      <th>location.postalCode</th>\n      <th>location.state</th>\n      <th>name</th>\n      <th>referralId</th>\n    </tr>\n  </thead>\n  <tbody>\n    <tr>\n      <th>0</th>\n      <td>[{'id': '4bf58dd8d48988d1ca941735', 'name': 'P...</td>\n      <td>False</td>\n      <td>4fa862b3e4b0ebff2f749f06</td>\n      <td>225 Murray St</td>\n      <td>US</td>\n      <td>New York</td>\n      <td>United States</td>\n      <td>77</td>\n      <td>[225 Murray St, New York, NY 10282, United Sta...</td>\n      <td>[{'label': 'display', 'lat': 40.71521779064671...</td>\n      <td>40.715218</td>\n      <td>-74.014739</td>\n      <td>10282</td>\n      <td>NY</td>\n      <td>Harry's Italian Pizza Bar</td>\n      <td>v-1589727290</td>\n    </tr>\n    <tr>\n      <th>1</th>\n      <td>[{'id': '4d4b7105d754a06374d81259', 'name': 'F...</td>\n      <td>False</td>\n      <td>4f3232e219836c91c7bfde94</td>\n      <td>63 W Broadway</td>\n      <td>US</td>\n      <td>New York</td>\n      <td>United States</td>\n      <td>499</td>\n      <td>[63 W Broadway, New York, NY 10007, United Sta...</td>\n      <td>[{'label': 'display', 'lat': 40.71448400000000...</td>\n      <td>40.714484</td>\n      <td>-74.009806</td>\n      <td>10007</td>\n      <td>NY</td>\n      <td>Conca Cucina Italian Restaurant</td>\n      <td>v-1589727290</td>\n    </tr>\n  </tbody>\n</table>\n</div>",
                        "text/plain": "                                          categories  hasPerk  \\\n0  [{'id': '4bf58dd8d48988d1ca941735', 'name': 'P...    False   \n1  [{'id': '4d4b7105d754a06374d81259', 'name': 'F...    False   \n\n                         id location.address location.cc location.city  \\\n0  4fa862b3e4b0ebff2f749f06    225 Murray St          US      New York   \n1  4f3232e219836c91c7bfde94    63 W Broadway          US      New York   \n\n  location.country  location.distance  \\\n0    United States                 77   \n1    United States                499   \n\n                           location.formattedAddress  \\\n0  [225 Murray St, New York, NY 10282, United Sta...   \n1  [63 W Broadway, New York, NY 10007, United Sta...   \n\n                             location.labeledLatLngs  location.lat  \\\n0  [{'label': 'display', 'lat': 40.71521779064671...     40.715218   \n1  [{'label': 'display', 'lat': 40.71448400000000...     40.714484   \n\n   location.lng location.postalCode location.state  \\\n0    -74.014739               10282             NY   \n1    -74.009806               10007             NY   \n\n                              name    referralId  \n0        Harry's Italian Pizza Bar  v-1589727290  \n1  Conca Cucina Italian Restaurant  v-1589727290  "
                    },
                    "execution_count": 7,
                    "metadata": {},
                    "output_type": "execute_result"
                }
            ],
            "source": "# assign relevant part of JSON to venues\nvenues = results['response']['venues']\n\n# tranform venues into a dataframe\ndataframe = json_normalize(venues)\ndataframe.head()"
        },
        {
            "cell_type": "markdown",
            "metadata": {
                "button": false,
                "new_sheet": false,
                "run_control": {
                    "read_only": false
                }
            },
            "source": "#### Define information of interest and filter dataframe"
        },
        {
            "cell_type": "code",
            "execution_count": 8,
            "metadata": {
                "button": false,
                "new_sheet": false,
                "run_control": {
                    "read_only": false
                },
                "scrolled": true
            },
            "outputs": [
                {
                    "data": {
                        "text/html": "<div>\n<style scoped>\n    .dataframe tbody tr th:only-of-type {\n        vertical-align: middle;\n    }\n\n    .dataframe tbody tr th {\n        vertical-align: top;\n    }\n\n    .dataframe thead th {\n        text-align: right;\n    }\n</style>\n<table border=\"1\" class=\"dataframe\">\n  <thead>\n    <tr style=\"text-align: right;\">\n      <th></th>\n      <th>name</th>\n      <th>categories</th>\n      <th>address</th>\n      <th>cc</th>\n      <th>city</th>\n      <th>country</th>\n      <th>distance</th>\n      <th>formattedAddress</th>\n      <th>labeledLatLngs</th>\n      <th>lat</th>\n      <th>lng</th>\n      <th>postalCode</th>\n      <th>state</th>\n      <th>id</th>\n    </tr>\n  </thead>\n  <tbody>\n    <tr>\n      <th>0</th>\n      <td>Harry's Italian Pizza Bar</td>\n      <td>Pizza Place</td>\n      <td>225 Murray St</td>\n      <td>US</td>\n      <td>New York</td>\n      <td>United States</td>\n      <td>77</td>\n      <td>[225 Murray St, New York, NY 10282, United Sta...</td>\n      <td>[{'label': 'display', 'lat': 40.71521779064671...</td>\n      <td>40.715218</td>\n      <td>-74.014739</td>\n      <td>10282</td>\n      <td>NY</td>\n      <td>4fa862b3e4b0ebff2f749f06</td>\n    </tr>\n    <tr>\n      <th>1</th>\n      <td>Conca Cucina Italian Restaurant</td>\n      <td>Food</td>\n      <td>63 W Broadway</td>\n      <td>US</td>\n      <td>New York</td>\n      <td>United States</td>\n      <td>499</td>\n      <td>[63 W Broadway, New York, NY 10007, United Sta...</td>\n      <td>[{'label': 'display', 'lat': 40.71448400000000...</td>\n      <td>40.714484</td>\n      <td>-74.009806</td>\n      <td>10007</td>\n      <td>NY</td>\n      <td>4f3232e219836c91c7bfde94</td>\n    </tr>\n  </tbody>\n</table>\n</div>",
                        "text/plain": "                              name   categories        address  cc      city  \\\n0        Harry's Italian Pizza Bar  Pizza Place  225 Murray St  US  New York   \n1  Conca Cucina Italian Restaurant         Food  63 W Broadway  US  New York   \n\n         country  distance                                   formattedAddress  \\\n0  United States        77  [225 Murray St, New York, NY 10282, United Sta...   \n1  United States       499  [63 W Broadway, New York, NY 10007, United Sta...   \n\n                                      labeledLatLngs        lat        lng  \\\n0  [{'label': 'display', 'lat': 40.71521779064671...  40.715218 -74.014739   \n1  [{'label': 'display', 'lat': 40.71448400000000...  40.714484 -74.009806   \n\n  postalCode state                        id  \n0      10282    NY  4fa862b3e4b0ebff2f749f06  \n1      10007    NY  4f3232e219836c91c7bfde94  "
                    },
                    "execution_count": 8,
                    "metadata": {},
                    "output_type": "execute_result"
                }
            ],
            "source": "# keep only columns that include venue name, and anything that is associated with location\nfiltered_columns = ['name', 'categories'] + [col for col in dataframe.columns if col.startswith('location.')] + ['id']\ndataframe_filtered = dataframe.loc[:, filtered_columns]\n\n# function that extracts the category of the venue\ndef get_category_type(row):\n    try:\n        categories_list = row['categories']\n    except:\n        categories_list = row['venue.categories']\n        \n    if len(categories_list) == 0:\n        return None\n    else:\n        return categories_list[0]['name']\n\n# filter the category for each row\ndataframe_filtered['categories'] = dataframe_filtered.apply(get_category_type, axis=1)\n\n# clean column names by keeping only last term\ndataframe_filtered.columns = [column.split('.')[-1] for column in dataframe_filtered.columns]\n\ndataframe_filtered"
        },
        {
            "cell_type": "markdown",
            "metadata": {
                "button": false,
                "new_sheet": false,
                "run_control": {
                    "read_only": false
                }
            },
            "source": "#### Let's visualize the Italian restaurants that are nearby"
        },
        {
            "cell_type": "code",
            "execution_count": 9,
            "metadata": {
                "button": false,
                "new_sheet": false,
                "run_control": {
                    "read_only": false
                }
            },
            "outputs": [
                {
                    "data": {
                        "text/plain": "0          Harry's Italian Pizza Bar\n1    Conca Cucina Italian Restaurant\nName: name, dtype: object"
                    },
                    "execution_count": 9,
                    "metadata": {},
                    "output_type": "execute_result"
                }
            ],
            "source": "dataframe_filtered.name"
        },
        {
            "cell_type": "code",
            "execution_count": 10,
            "metadata": {
                "button": false,
                "new_sheet": false,
                "run_control": {
                    "read_only": false
                },
                "scrolled": false
            },
            "outputs": [
                {
                    "data": {
                        "text/html": "<div style=\"width:100%;\"><div style=\"position:relative;width:100%;height:0;padding-bottom:60%;\"><span style=\"color:#565656\">Make this Notebook Trusted to load map: File -> Trust Notebook</span><iframe src=\"about:blank\" style=\"position:absolute;width:100%;height:100%;left:0;top:0;border:none !important;\" data-html=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 onload=\"this.contentDocument.open();this.contentDocument.write(atob(this.getAttribute('data-html')));this.contentDocument.close();\" allowfullscreen webkitallowfullscreen mozallowfullscreen></iframe></div></div>",
                        "text/plain": "<folium.folium.Map at 0x7f02f24d0390>"
                    },
                    "execution_count": 10,
                    "metadata": {},
                    "output_type": "execute_result"
                }
            ],
            "source": "venues_map = folium.Map(location=[latitude, longitude], zoom_start=13) # generate map centred around the Conrad Hotel\n\n# add a red circle marker to represent the Conrad Hotel\nfolium.features.CircleMarker(\n    [latitude, longitude],\n    radius=10,\n    color='red',\n    popup='Conrad Hotel',\n    fill = True,\n    fill_color = 'red',\n    fill_opacity = 0.6\n).add_to(venues_map)\n\n# add the Italian restaurants as blue circle markers\nfor lat, lng, label in zip(dataframe_filtered.lat, dataframe_filtered.lng, dataframe_filtered.categories):\n    folium.features.CircleMarker(\n        [lat, lng],\n        radius=5,\n        color='blue',\n        popup=label,\n        fill = True,\n        fill_color='blue',\n        fill_opacity=0.6\n    ).add_to(venues_map)\n\n# display map\nvenues_map"
        },
        {
            "cell_type": "markdown",
            "metadata": {
                "button": false,
                "new_sheet": false,
                "run_control": {
                    "read_only": false
                }
            },
            "source": "   "
        },
        {
            "cell_type": "markdown",
            "metadata": {
                "button": false,
                "new_sheet": false,
                "run_control": {
                    "read_only": false
                }
            },
            "source": "<a id=\"item2\"></a>"
        },
        {
            "cell_type": "markdown",
            "metadata": {
                "button": false,
                "new_sheet": false,
                "run_control": {
                    "read_only": false
                }
            },
            "source": "## 2. Explore a Given Venue\n> `https://api.foursquare.com/v2/venues/`**VENUE_ID**`?client_id=`**CLIENT_ID**`&client_secret=`**CLIENT_SECRET**`&v=`**VERSION**"
        },
        {
            "cell_type": "markdown",
            "metadata": {
                "button": false,
                "new_sheet": false,
                "run_control": {
                    "read_only": false
                }
            },
            "source": "### A. Let's explore the closest Italian restaurant -- _Harry's Italian Pizza Bar_"
        },
        {
            "cell_type": "code",
            "execution_count": 11,
            "metadata": {
                "button": false,
                "new_sheet": false,
                "run_control": {
                    "read_only": false
                }
            },
            "outputs": [
                {
                    "data": {
                        "text/plain": "'https://api.foursquare.com/v2/venues/4fa862b3e4b0ebff2f749f06?client_id=EZUCSVCTPAWJTAGVHIP2GM5LHRXH03D54VXUUPECMO2AAFQV&client_secret=KE4C1V0NGPXD5HTFDU34XHG0DPNNFVMK34EWOFLFBUU20QOQ&v=20180604'"
                    },
                    "execution_count": 11,
                    "metadata": {},
                    "output_type": "execute_result"
                }
            ],
            "source": "venue_id = '4fa862b3e4b0ebff2f749f06' # ID of Harry's Italian Pizza Bar\nurl = 'https://api.foursquare.com/v2/venues/{}?client_id={}&client_secret={}&v={}'.format(venue_id, CLIENT_ID, CLIENT_SECRET, VERSION)\nurl"
        },
        {
            "cell_type": "markdown",
            "metadata": {
                "button": false,
                "new_sheet": false,
                "run_control": {
                    "read_only": false
                }
            },
            "source": "#### Send GET request for result"
        },
        {
            "cell_type": "code",
            "execution_count": 12,
            "metadata": {
                "button": false,
                "new_sheet": false,
                "run_control": {
                    "read_only": false
                }
            },
            "outputs": [
                {
                    "name": "stdout",
                    "output_type": "stream",
                    "text": "dict_keys(['id', 'name', 'contact', 'location', 'canonicalUrl', 'categories', 'verified', 'stats', 'url', 'price', 'hasMenu', 'likes', 'dislike', 'ok', 'rating', 'ratingColor', 'ratingSignals', 'menu', 'allowMenuUrlEdit', 'beenHere', 'specials', 'photos', 'reasons', 'hereNow', 'createdAt', 'tips', 'shortUrl', 'timeZone', 'listed', 'hours', 'popular', 'seasonalHours', 'defaultHours', 'pageUpdates', 'inbox', 'attributes', 'bestPhoto', 'colors'])\n"
                },
                {
                    "data": {
                        "text/plain": "{'id': '4fa862b3e4b0ebff2f749f06',\n 'name': \"Harry's Italian Pizza Bar\",\n 'contact': {'phone': '2126081007', 'formattedPhone': '(212) 608-1007'},\n 'location': {'address': '225 Murray St',\n  'lat': 40.71521779064671,\n  'lng': -74.01473940209351,\n  'labeledLatLngs': [{'label': 'display',\n    'lat': 40.71521779064671,\n    'lng': -74.01473940209351},\n   {'label': 'entrance', 'lat': 40.715361, 'lng': -74.014975}],\n  'postalCode': '10282',\n  'cc': 'US',\n  'city': 'New York',\n  'state': 'NY',\n  'country': 'United States',\n  'formattedAddress': ['225 Murray St',\n   'New York, NY 10282',\n   'United States']},\n 'canonicalUrl': 'https://foursquare.com/v/harrys-italian-pizza-bar/4fa862b3e4b0ebff2f749f06',\n 'categories': [{'id': '4bf58dd8d48988d1ca941735',\n   'name': 'Pizza Place',\n   'pluralName': 'Pizza Places',\n   'shortName': 'Pizza',\n   'icon': {'prefix': 'https://ss3.4sqi.net/img/categories_v2/food/pizza_',\n    'suffix': '.png'},\n   'primary': True},\n  {'id': '4bf58dd8d48988d110941735',\n   'name': 'Italian Restaurant',\n   'pluralName': 'Italian Restaurants',\n   'shortName': 'Italian',\n   'icon': {'prefix': 'https://ss3.4sqi.net/img/categories_v2/food/italian_',\n    'suffix': '.png'}}],\n 'verified': False,\n 'stats': {'tipCount': 57},\n 'url': 'http://harrysitalian.com',\n 'price': {'tier': 2, 'message': 'Moderate', 'currency': '$'},\n 'hasMenu': True,\n 'likes': {'count': 120,\n  'groups': [{'type': 'others', 'count': 120, 'items': []}],\n  'summary': '120 Likes'},\n 'dislike': False,\n 'ok': False,\n 'rating': 6.4,\n 'ratingColor': 'FFC800',\n 'ratingSignals': 212,\n 'menu': {'type': 'Menu',\n  'label': 'Menu',\n  'anchor': 'View Menu',\n  'url': 'https://foursquare.com/v/harrys-italian-pizza-bar/4fa862b3e4b0ebff2f749f06/menu',\n  'mobileUrl': 'https://foursquare.com/v/4fa862b3e4b0ebff2f749f06/device_menu'},\n 'allowMenuUrlEdit': True,\n 'beenHere': {'count': 0,\n  'unconfirmedCount': 0,\n  'marked': False,\n  'lastCheckinExpiredAt': 0},\n 'specials': {'count': 0, 'items': []},\n 'photos': {'count': 146,\n  'groups': [{'type': 'venue',\n    'name': 'Venue photos',\n    'count': 146,\n    'items': [{'id': '4fad980de4b091b4626c3633',\n      'createdAt': 1336776717,\n      'source': {'name': 'Foursquare for Android',\n       'url': 'https://foursquare.com/download/#/android'},\n      'prefix': 'https://fastly.4sqi.net/img/general/',\n      'suffix': '/ya1iQFI7pLjuIJp1PGDKlrZS3OJdHCF7tpILMmjv_2w.jpg',\n      'width': 480,\n      'height': 640,\n      'user': {'id': '13676709',\n       'firstName': 'Leony',\n       'lastName': 'N',\n       'photo': {'prefix': 'https://fastly.4sqi.net/img/user/',\n        'suffix': '/T0ANFNGNMCHUDEUE.jpg'}},\n      'visibility': 'public'}]}]},\n 'reasons': {'count': 1,\n  'items': [{'summary': 'Lots of people like this place',\n    'type': 'general',\n    'reasonName': 'rawLikesReason'}]},\n 'hereNow': {'count': 0, 'summary': 'Nobody here', 'groups': []},\n 'createdAt': 1336435379,\n 'tips': {'count': 57,\n  'groups': [{'type': 'others',\n    'name': 'All tips',\n    'count': 57,\n    'items': [{'id': '53d27909498e0523841340b6',\n      'createdAt': 1406302473,\n      'text': \"Harry's Italian Pizza bar is known for it's amazing pizza, but did you know that the brunches here are amazing too? Try the Nutella French toast and we know you'll be sold.\",\n      'type': 'user',\n      'canonicalUrl': 'https://foursquare.com/item/53d27909498e0523841340b6',\n      'lang': 'en',\n      'likes': {'count': 4,\n       'groups': [{'type': 'others',\n         'count': 4,\n         'items': [{'id': '369426',\n           'firstName': 'P.',\n           'lastName': 'M',\n           'photo': {'prefix': 'https://fastly.4sqi.net/img/user/',\n            'suffix': '/JPQYUWJKUT0H2OO4.jpg'}},\n          {'id': '87587879',\n           'firstName': 'Diane',\n           'lastName': 'D',\n           'photo': {'prefix': 'https://fastly.4sqi.net/img/user/',\n            'suffix': '/87587879-ESLRSZLQ2CBE2P4W.jpg'}},\n          {'id': '87591341',\n           'firstName': 'Tim',\n           'lastName': 'S',\n           'photo': {'prefix': 'https://fastly.4sqi.net/img/user/',\n            'suffix': '/-Z4YK4VKE0JSVXIY1.jpg'}},\n          {'id': '87473404',\n           'firstName': 'TenantKing.com',\n           'photo': {'prefix': 'https://fastly.4sqi.net/img/user/',\n            'suffix': '/87473404-HI5DTBTK0HX401CA.png'},\n           'type': 'page'}]}],\n       'summary': '4 likes'},\n      'logView': True,\n      'agreeCount': 4,\n      'disagreeCount': 0,\n      'todo': {'count': 0},\n      'user': {'id': '87473404',\n       'firstName': 'TenantKing.com',\n       'photo': {'prefix': 'https://fastly.4sqi.net/img/user/',\n        'suffix': '/87473404-HI5DTBTK0HX401CA.png'},\n       'type': 'page'}}]}]},\n 'shortUrl': 'http://4sq.com/JNblHV',\n 'timeZone': 'America/New_York',\n 'listed': {'count': 54,\n  'groups': [{'type': 'others',\n    'name': 'Lists from other people',\n    'count': 54,\n    'items': [{'id': '4fa32fd0e4b04193744746b1',\n      'name': 'Manhattan Haunts',\n      'description': '',\n      'type': 'others',\n      'user': {'id': '24592223',\n       'firstName': 'Becca',\n       'lastName': 'M',\n       'photo': {'prefix': 'https://fastly.4sqi.net/img/user/',\n        'suffix': '/24592223-RAW2UYM0GIB1U40K.jpg'}},\n      'editable': False,\n      'public': True,\n      'collaborative': False,\n      'url': '/becca_mcarthur/list/manhattan-haunts',\n      'canonicalUrl': 'https://foursquare.com/becca_mcarthur/list/manhattan-haunts',\n      'createdAt': 1336094672,\n      'updatedAt': 1380845377,\n      'photo': {'id': '4e8cc9461081e3b3544e12e5',\n       'createdAt': 1317849414,\n       'prefix': 'https://fastly.4sqi.net/img/general/',\n       'suffix': '/0NLVU2HC1JF4DXIMKWUFW3QBUT31DC11EFNYYHMJG3NDWAPS.jpg',\n       'width': 492,\n       'height': 330,\n       'user': {'id': '742542',\n        'firstName': 'Time Out New York',\n        'photo': {'prefix': 'https://fastly.4sqi.net/img/user/',\n         'suffix': '/XXHKCBSQHBORZNSR.jpg'},\n        'type': 'page'},\n       'visibility': 'public'},\n      'followers': {'count': 22},\n      'listItems': {'count': 187,\n       'items': [{'id': 'v4fa862b3e4b0ebff2f749f06',\n         'createdAt': 1342934485}]}},\n     {'id': '4fae817be4b085f6b2a74d19',\n      'name': 'USA NYC MAN FiDi',\n      'description': 'Where to go for decent eats in the restaurant wasteland of Downtown NYC aka FiDi, along with Tribeca & Battery Park City.',\n      'type': 'others',\n      'user': {'id': '12113441',\n       'firstName': 'Kino',\n       'photo': {'prefix': 'https://fastly.4sqi.net/img/user/',\n        'suffix': '/12113441-K5HTHFLU2MUCM0CM.jpg'}},\n      'editable': False,\n      'public': True,\n      'collaborative': False,\n      'url': '/kinosfault/list/usa-nyc-man-fidi',\n      'canonicalUrl': 'https://foursquare.com/kinosfault/list/usa-nyc-man-fidi',\n      'createdAt': 1336836475,\n      'updatedAt': 1556754919,\n      'photo': {'id': '55984992498e13ba75e353bb',\n       'createdAt': 1436043666,\n       'prefix': 'https://fastly.4sqi.net/img/general/',\n       'suffix': '/12113441_iOa6Uh-Xi8bhj2-gpzkkw8MKiAIs7RmOcz_RM7m8ink.jpg',\n       'width': 540,\n       'height': 960,\n       'user': {'id': '12113441',\n        'firstName': 'Kino',\n        'photo': {'prefix': 'https://fastly.4sqi.net/img/user/',\n         'suffix': '/12113441-K5HTHFLU2MUCM0CM.jpg'}},\n       'visibility': 'public'},\n      'followers': {'count': 20},\n      'listItems': {'count': 273,\n       'items': [{'id': 'v4fa862b3e4b0ebff2f749f06',\n         'createdAt': 1373909433}]}},\n     {'id': '4fddeff0e4b0e078037ac0d3',\n      'name': 'NYC Resturants',\n      'description': '',\n      'type': 'others',\n      'user': {'id': '21563126',\n       'firstName': 'Richard',\n       'lastName': 'R',\n       'photo': {'prefix': 'https://fastly.4sqi.net/img/user/',\n        'suffix': '/21563126_v05J1KPw_SVj6Ehq9g8B9jeAGjFUMsU5QGl-NZ8inUQ7pKQm5bKplW37EmR7jS2A7GYPBBAtl.jpg'}},\n      'editable': False,\n      'public': True,\n      'collaborative': True,\n      'url': '/rickr7/list/nyc-resturants',\n      'canonicalUrl': 'https://foursquare.com/rickr7/list/nyc-resturants',\n      'createdAt': 1339944944,\n      'updatedAt': 1589017010,\n      'photo': {'id': '5072dd13e4b09145cdf782d1',\n       'createdAt': 1349704979,\n       'prefix': 'https://fastly.4sqi.net/img/general/',\n       'suffix': '/208205_fGh2OuAZ9qJ4agbAA5wMVNOSIm9kNUlRtNwj1N-adqg.jpg',\n       'width': 800,\n       'height': 800,\n       'user': {'id': '208205',\n        'firstName': 'Thalia',\n        'lastName': 'K',\n        'photo': {'prefix': 'https://fastly.4sqi.net/img/user/',\n         'suffix': '/SNOOLCAW2AG04ZKD.jpg'}},\n       'visibility': 'public'},\n      'followers': {'count': 12},\n      'listItems': {'count': 192,\n       'items': [{'id': 'v4fa862b3e4b0ebff2f749f06',\n         'createdAt': 1581655865}]}},\n     {'id': '5266c68a498e7c667807fe09',\n      'name': 'Foodie Love in NY - 02',\n      'description': '',\n      'type': 'others',\n      'user': {'id': '547977',\n       'firstName': 'WiLL',\n       'photo': {'prefix': 'https://fastly.4sqi.net/img/user/',\n        'suffix': '/-Q5NYGDMFDMOITQRR.jpg'}},\n      'editable': False,\n      'public': True,\n      'collaborative': False,\n      'url': '/sweetiewill/list/foodie-love-in-ny--02',\n      'canonicalUrl': 'https://foursquare.com/sweetiewill/list/foodie-love-in-ny--02',\n      'createdAt': 1382467210,\n      'updatedAt': 1391995585,\n      'followers': {'count': 7},\n      'listItems': {'count': 200,\n       'items': [{'id': 'v4fa862b3e4b0ebff2f749f06',\n         'createdAt': 1386809936}]}}]}]},\n 'hours': {'status': 'Closed until 11:30 AM',\n  'richStatus': {'entities': [], 'text': 'Closed until 11:30 AM'},\n  'isOpen': False,\n  'isLocalHoliday': False,\n  'dayData': [],\n  'timeframes': [{'days': 'Mon\u2013Wed, Sun',\n    'includesToday': True,\n    'open': [{'renderedTime': '11:30 AM\u201311:00 PM'}],\n    'segments': []},\n   {'days': 'Thu\u2013Sat',\n    'open': [{'renderedTime': '11:30 AM\u2013Midnight'}],\n    'segments': []}]},\n 'popular': {'isOpen': False,\n  'isLocalHoliday': False,\n  'timeframes': [{'days': 'Today',\n    'includesToday': True,\n    'open': [{'renderedTime': 'Noon\u20133:00 PM'},\n     {'renderedTime': '5:00 PM\u20138:00 PM'}],\n    'segments': []},\n   {'days': 'Mon',\n    'open': [{'renderedTime': 'Noon\u20132:00 PM'},\n     {'renderedTime': '6:00 PM\u20138:00 PM'}],\n    'segments': []},\n   {'days': 'Tue\u2013Thu',\n    'open': [{'renderedTime': 'Noon\u20132:00 PM'},\n     {'renderedTime': '5:00 PM\u201310:00 PM'}],\n    'segments': []},\n   {'days': 'Fri',\n    'open': [{'renderedTime': 'Noon\u20133:00 PM'},\n     {'renderedTime': '5:00 PM\u201311:00 PM'}],\n    'segments': []},\n   {'days': 'Sat',\n    'open': [{'renderedTime': 'Noon\u201311:00 PM'}],\n    'segments': []}]},\n 'seasonalHours': [],\n 'defaultHours': {'status': 'Closed until 11:30 AM',\n  'richStatus': {'entities': [], 'text': 'Closed until 11:30 AM'},\n  'isOpen': False,\n  'isLocalHoliday': False,\n  'dayData': [],\n  'timeframes': [{'days': 'Mon\u2013Wed, Sun',\n    'includesToday': True,\n    'open': [{'renderedTime': '11:30 AM\u201311:00 PM'}],\n    'segments': []},\n   {'days': 'Thu\u2013Sat',\n    'open': [{'renderedTime': '11:30 AM\u2013Midnight'}],\n    'segments': []}]},\n 'pageUpdates': {'count': 0, 'items': []},\n 'inbox': {'count': 0, 'items': []},\n 'attributes': {'groups': [{'type': 'price',\n    'name': 'Price',\n    'summary': '$$',\n    'count': 1,\n    'items': [{'displayName': 'Price', 'displayValue': '$$', 'priceTier': 2}]},\n   {'type': 'payments',\n    'name': 'Credit Cards',\n    'summary': 'Credit Cards',\n    'count': 7,\n    'items': [{'displayName': 'Credit Cards',\n      'displayValue': 'Yes (incl. American Express)'}]},\n   {'type': 'outdoorSeating',\n    'name': 'Outdoor Seating',\n    'summary': 'Outdoor Seating',\n    'count': 1,\n    'items': [{'displayName': 'Outdoor Seating', 'displayValue': 'Yes'}]},\n   {'type': 'serves',\n    'name': 'Menus',\n    'summary': 'Happy Hour, Brunch & more',\n    'count': 8,\n    'items': [{'displayName': 'Brunch', 'displayValue': 'Brunch'},\n     {'displayName': 'Lunch', 'displayValue': 'Lunch'},\n     {'displayName': 'Dinner', 'displayValue': 'Dinner'},\n     {'displayName': 'Happy Hour', 'displayValue': 'Happy Hour'}]},\n   {'type': 'drinks',\n    'name': 'Drinks',\n    'summary': 'Beer, Wine & Cocktails',\n    'count': 5,\n    'items': [{'displayName': 'Beer', 'displayValue': 'Beer'},\n     {'displayName': 'Wine', 'displayValue': 'Wine'},\n     {'displayName': 'Cocktails', 'displayValue': 'Cocktails'}]},\n   {'type': 'diningOptions',\n    'name': 'Dining Options',\n    'summary': 'Delivery',\n    'count': 5,\n    'items': [{'displayName': 'Delivery', 'displayValue': 'Delivery'}]}]},\n 'bestPhoto': {'id': '4fad980de4b091b4626c3633',\n  'createdAt': 1336776717,\n  'source': {'name': 'Foursquare for Android',\n   'url': 'https://foursquare.com/download/#/android'},\n  'prefix': 'https://fastly.4sqi.net/img/general/',\n  'suffix': '/ya1iQFI7pLjuIJp1PGDKlrZS3OJdHCF7tpILMmjv_2w.jpg',\n  'width': 480,\n  'height': 640,\n  'visibility': 'public'},\n 'colors': {'highlightColor': {'photoId': '4fad980de4b091b4626c3633',\n   'value': -13619152},\n  'highlightTextColor': {'photoId': '4fad980de4b091b4626c3633', 'value': -1},\n  'algoVersion': 3}}"
                    },
                    "execution_count": 12,
                    "metadata": {},
                    "output_type": "execute_result"
                }
            ],
            "source": "result = requests.get(url).json()\nprint(result['response']['venue'].keys())\nresult['response']['venue']"
        },
        {
            "cell_type": "markdown",
            "metadata": {
                "button": false,
                "new_sheet": false,
                "run_control": {
                    "read_only": false
                }
            },
            "source": "### B. Get the venue's overall rating"
        },
        {
            "cell_type": "code",
            "execution_count": 18,
            "metadata": {
                "button": false,
                "new_sheet": false,
                "run_control": {
                    "read_only": false
                }
            },
            "outputs": [
                {
                    "name": "stdout",
                    "output_type": "stream",
                    "text": "7.4\n"
                }
            ],
            "source": "try:\n    print(result['response']['venue']['rating'])\nexcept:\n    print('This venue has not been rated yet.')"
        },
        {
            "cell_type": "markdown",
            "metadata": {
                "button": false,
                "new_sheet": false,
                "run_control": {
                    "read_only": false
                }
            },
            "source": "That is not a very good rating. Let's check the rating of the second closest Italian restaurant."
        },
        {
            "cell_type": "code",
            "execution_count": 19,
            "metadata": {
                "button": false,
                "new_sheet": false,
                "run_control": {
                    "read_only": false
                }
            },
            "outputs": [
                {
                    "name": "stdout",
                    "output_type": "stream",
                    "text": "This venue has not been rated yet.\n"
                }
            ],
            "source": "venue_id = '4f3232e219836c91c7bfde94' # ID of Conca Cucina Italian Restaurant\nurl = 'https://api.foursquare.com/v2/venues/{}?client_id={}&client_secret={}&v={}'.format(venue_id, CLIENT_ID, CLIENT_SECRET, VERSION)\n\nresult = requests.get(url).json()\ntry:\n    print(result['response']['venue']['rating'])\nexcept:\n    print('This venue has not been rated yet.')"
        },
        {
            "cell_type": "markdown",
            "metadata": {
                "button": false,
                "new_sheet": false,
                "run_control": {
                    "read_only": false
                }
            },
            "source": "Since this restaurant has no ratings, let's check the third restaurant."
        },
        {
            "cell_type": "code",
            "execution_count": 20,
            "metadata": {
                "button": false,
                "new_sheet": false,
                "run_control": {
                    "read_only": false
                }
            },
            "outputs": [
                {
                    "name": "stdout",
                    "output_type": "stream",
                    "text": "7.4\n"
                }
            ],
            "source": "venue_id = '3fd66200f964a520f4e41ee3' # ID of Ecco\nurl = 'https://api.foursquare.com/v2/venues/{}?client_id={}&client_secret={}&v={}'.format(venue_id, CLIENT_ID, CLIENT_SECRET, VERSION)\n\nresult = requests.get(url).json()\ntry:\n    print(result['response']['venue']['rating'])\nexcept:\n    print('This venue has not been rated yet.')"
        },
        {
            "cell_type": "markdown",
            "metadata": {
                "button": false,
                "new_sheet": false,
                "run_control": {
                    "read_only": false
                }
            },
            "source": "Since this restaurant has a slightly better rating, let's explore it further."
        },
        {
            "cell_type": "markdown",
            "metadata": {
                "button": false,
                "new_sheet": false,
                "run_control": {
                    "read_only": false
                }
            },
            "source": "### C. Get the number of tips"
        },
        {
            "cell_type": "code",
            "execution_count": 21,
            "metadata": {
                "button": false,
                "new_sheet": false,
                "run_control": {
                    "read_only": false
                }
            },
            "outputs": [
                {
                    "data": {
                        "text/plain": "19"
                    },
                    "execution_count": 21,
                    "metadata": {},
                    "output_type": "execute_result"
                }
            ],
            "source": "result['response']['venue']['tips']['count']"
        },
        {
            "cell_type": "markdown",
            "metadata": {
                "button": false,
                "new_sheet": false,
                "run_control": {
                    "read_only": false
                }
            },
            "source": "### D. Get the venue's tips\n> `https://api.foursquare.com/v2/venues/`**VENUE_ID**`/tips?client_id=`**CLIENT_ID**`&client_secret=`**CLIENT_SECRET**`&v=`**VERSION**`&limit=`**LIMIT**"
        },
        {
            "cell_type": "markdown",
            "metadata": {
                "button": false,
                "new_sheet": false,
                "run_control": {
                    "read_only": false
                }
            },
            "source": "#### Create URL and send GET request. Make sure to set limit to get all tips"
        },
        {
            "cell_type": "code",
            "execution_count": 22,
            "metadata": {
                "button": false,
                "new_sheet": false,
                "run_control": {
                    "read_only": false
                }
            },
            "outputs": [
                {
                    "data": {
                        "text/plain": "{'meta': {'code': 200, 'requestId': '5ec1506040a7ea001bd832fc'},\n 'response': {'tips': {'count': 19,\n   'items': [{'id': '5ab1cb46c9a517174651d3fe',\n     'createdAt': 1521601350,\n     'text': 'A+ Italian food! Trust me on this: my mom\u2019s side of the family is 100% Italian. I was born and bred to know good pasta when I see it, and Ecco is one of my all-time NYC favorites',\n     'type': 'user',\n     'canonicalUrl': 'https://foursquare.com/item/5ab1cb46c9a517174651d3fe',\n     'lang': 'en',\n     'likes': {'count': 0, 'groups': []},\n     'logView': True,\n     'agreeCount': 4,\n     'disagreeCount': 0,\n     'todo': {'count': 0},\n     'user': {'id': '484542633',\n      'firstName': 'Nick',\n      'lastName': 'E',\n      'photo': {'prefix': 'https://fastly.4sqi.net/img/user/',\n       'suffix': '/484542633_unymNUmw_FdPs3GjXHujmHcYnN4hf8kEPADlOZuIrdcdm97VX3tFqL7fFNMNA_8Gl9NlU1GYg.jpg'}},\n     'authorInteractionType': 'liked'}]}}}"
                    },
                    "execution_count": 22,
                    "metadata": {},
                    "output_type": "execute_result"
                }
            ],
            "source": "## Ecco Tips\nlimit = 15 # set limit to be greater than or equal to the total number of tips\nurl = 'https://api.foursquare.com/v2/venues/{}/tips?client_id={}&client_secret={}&v={}&limit={}'.format(venue_id, CLIENT_ID, CLIENT_SECRET, VERSION, limit)\n\nresults = requests.get(url).json()\nresults"
        },
        {
            "cell_type": "markdown",
            "metadata": {
                "button": false,
                "new_sheet": false,
                "run_control": {
                    "read_only": false
                }
            },
            "source": "#### Get tips and list of associated features"
        },
        {
            "cell_type": "code",
            "execution_count": 23,
            "metadata": {
                "button": false,
                "new_sheet": false,
                "run_control": {
                    "read_only": false
                }
            },
            "outputs": [
                {
                    "data": {
                        "text/plain": "dict_keys(['id', 'createdAt', 'text', 'type', 'canonicalUrl', 'lang', 'likes', 'logView', 'agreeCount', 'disagreeCount', 'todo', 'user', 'authorInteractionType'])"
                    },
                    "execution_count": 23,
                    "metadata": {},
                    "output_type": "execute_result"
                }
            ],
            "source": "tips = results['response']['tips']['items']\n\ntip = results['response']['tips']['items'][0]\ntip.keys()"
        },
        {
            "cell_type": "markdown",
            "metadata": {
                "button": false,
                "new_sheet": false,
                "run_control": {
                    "read_only": false
                }
            },
            "source": "#### Format column width and display all tips"
        },
        {
            "cell_type": "code",
            "execution_count": 32,
            "metadata": {
                "button": false,
                "new_sheet": false,
                "run_control": {
                    "read_only": false
                },
                "scrolled": false
            },
            "outputs": [
                {
                    "data": {
                        "text/html": "<div>\n<style scoped>\n    .dataframe tbody tr th:only-of-type {\n        vertical-align: middle;\n    }\n\n    .dataframe tbody tr th {\n        vertical-align: top;\n    }\n\n    .dataframe thead th {\n        text-align: right;\n    }\n</style>\n<table border=\"1\" class=\"dataframe\">\n  <thead>\n    <tr style=\"text-align: right;\">\n      <th></th>\n      <th>text</th>\n      <th>agreeCount</th>\n      <th>disagreeCount</th>\n      <th>id</th>\n      <th>user.firstName</th>\n      <th>user.lastName</th>\n      <th>user.gender</th>\n      <th>user.id</th>\n    </tr>\n  </thead>\n  <tbody>\n    <tr>\n      <th>0</th>\n      <td>A+ Italian food! Trust me on this: my mom\u2019s side of the family is 100% Italian. I was born and bred to know good pasta when I see it, and Ecco is one of my all-time NYC favorites</td>\n      <td>4</td>\n      <td>0</td>\n      <td>5ab1cb46c9a517174651d3fe</td>\n      <td>Nick</td>\n      <td>E</td>\n      <td>NaN</td>\n      <td>484542633</td>\n    </tr>\n  </tbody>\n</table>\n</div>",
                        "text/plain": "                                                                                                                                                                                 text  \\\n0  A+ Italian food! Trust me on this: my mom\u2019s side of the family is 100% Italian. I was born and bred to know good pasta when I see it, and Ecco is one of my all-time NYC favorites   \n\n   agreeCount  disagreeCount                        id user.firstName  \\\n0  4           0              5ab1cb46c9a517174651d3fe  Nick            \n\n  user.lastName  user.gender    user.id  \n0  E            NaN           484542633  "
                    },
                    "execution_count": 32,
                    "metadata": {},
                    "output_type": "execute_result"
                }
            ],
            "source": "pd.set_option('display.max_colwidth', -1)\n\ntips_df = json_normalize(tips) # json normalize tips\n\n# columns to keep\nfiltered_columns = ['text', 'agreeCount', 'disagreeCount', 'id', 'user.firstName', 'user.lastName', 'user.gender', 'user.id']\ntips_filtered = tips_df.loc[:, filtered_columns]\n\n# display tips\ntips_filtered"
        },
        {
            "cell_type": "markdown",
            "metadata": {
                "button": false,
                "new_sheet": false,
                "run_control": {
                    "read_only": false
                }
            },
            "source": "Now remember that because we are using a personal developer account, then we can access only 2 of the restaurant's tips, instead of all 15 tips."
        },
        {
            "cell_type": "markdown",
            "metadata": {
                "button": false,
                "new_sheet": false,
                "run_control": {
                    "read_only": false
                }
            },
            "source": "   "
        },
        {
            "cell_type": "markdown",
            "metadata": {
                "button": false,
                "new_sheet": false,
                "run_control": {
                    "read_only": false
                }
            },
            "source": "<a id=\"item3\"></a>"
        },
        {
            "cell_type": "markdown",
            "metadata": {
                "button": false,
                "new_sheet": false,
                "run_control": {
                    "read_only": false
                }
            },
            "source": "## 3. Search a Foursquare User\n> `https://api.foursquare.com/v2/users/`**USER_ID**`?client_id=`**CLIENT_ID**`&client_secret=`**CLIENT_SECRET**`&v=`**VERSION**"
        },
        {
            "cell_type": "markdown",
            "metadata": {
                "button": false,
                "new_sheet": false,
                "run_control": {
                    "read_only": false
                }
            },
            "source": "### Define URL, send GET request and display features associated with user"
        },
        {
            "cell_type": "code",
            "execution_count": 34,
            "metadata": {
                "button": false,
                "new_sheet": false,
                "run_control": {
                    "read_only": false
                }
            },
            "outputs": [
                {
                    "name": "stdout",
                    "output_type": "stream",
                    "text": "{'meta': {'code': 401, 'errorType': 'invalid_auth', 'errorDetail': 'Missing oauth_token. See https://developer.foursquare.com/docs/api/configuration/authentication for details.', 'requestId': '5ec15b67df2774001bd5232a'}, 'response': {}}\n"
                }
            ],
            "source": "user_id = '484542633' # user ID with most agree counts and complete profile\n\nurl = 'https://api.foursquare.com/v2/users/{}?client_id={}&client_secret={}&v={}'.format(user_id, CLIENT_ID, CLIENT_SECRET, VERSION) # define URL\n\n# send GET request\nresults = requests.get(url).json()\nprint(results)\n#user_data = results['response']['user']\n\n# display features associated with user\n#user_data.keys()"
        },
        {
            "cell_type": "code",
            "execution_count": null,
            "metadata": {
                "button": false,
                "new_sheet": false,
                "run_control": {
                    "read_only": false
                }
            },
            "outputs": [],
            "source": "print('First Name: ' + user_data['firstName'])\nprint('Last Name: ' + user_data['lastName'])\nprint('Home City: ' + user_data['homeCity'])"
        },
        {
            "cell_type": "markdown",
            "metadata": {
                "button": false,
                "new_sheet": false,
                "run_control": {
                    "read_only": false
                }
            },
            "source": "#### How many tips has this user submitted?"
        },
        {
            "cell_type": "code",
            "execution_count": null,
            "metadata": {
                "button": false,
                "new_sheet": false,
                "run_control": {
                    "read_only": false
                }
            },
            "outputs": [],
            "source": "user_data['tips']"
        },
        {
            "cell_type": "markdown",
            "metadata": {
                "button": false,
                "new_sheet": false,
                "run_control": {
                    "read_only": false
                }
            },
            "source": "Wow! So it turns out that Nick is a very active Foursquare user, with more than 250 tips."
        },
        {
            "cell_type": "markdown",
            "metadata": {
                "button": false,
                "new_sheet": false,
                "run_control": {
                    "read_only": false
                }
            },
            "source": "### Get User's tips"
        },
        {
            "cell_type": "code",
            "execution_count": 37,
            "metadata": {
                "button": false,
                "new_sheet": false,
                "run_control": {
                    "read_only": false
                },
                "scrolled": false
            },
            "outputs": [
                {
                    "data": {
                        "text/html": "<div>\n<style scoped>\n    .dataframe tbody tr th:only-of-type {\n        vertical-align: middle;\n    }\n\n    .dataframe tbody tr th {\n        vertical-align: top;\n    }\n\n    .dataframe thead th {\n        text-align: right;\n    }\n</style>\n<table border=\"1\" class=\"dataframe\">\n  <thead>\n    <tr style=\"text-align: right;\">\n      <th></th>\n      <th>text</th>\n      <th>agreeCount</th>\n      <th>disagreeCount</th>\n      <th>id</th>\n    </tr>\n  </thead>\n  <tbody>\n    <tr>\n      <th>0</th>\n      <td>They serve coffee!!!!!!</td>\n      <td>1</td>\n      <td>0</td>\n      <td>5accc98c0313204c9d7ec157</td>\n    </tr>\n    <tr>\n      <th>1</th>\n      <td>Quick, cheap lunch that tastes good! Way shorter line than Chipotle, too.</td>\n      <td>2</td>\n      <td>0</td>\n      <td>5acbec70a0215b732e264fe8</td>\n    </tr>\n    <tr>\n      <th>2</th>\n      <td>You\u2019re not a real New Yorker until you\u2019ve shame-ordered Insomnia Cookies for delivery at 3am</td>\n      <td>1</td>\n      <td>0</td>\n      <td>5acbbd4eb1538e45373b07f5</td>\n    </tr>\n    <tr>\n      <th>3</th>\n      <td>Good for you yet still tasty! Clean green protein is my go-to after I hit the gym \ud83d\udcaa</td>\n      <td>2</td>\n      <td>0</td>\n      <td>5acbbcda01235808d5d6dc75</td>\n    </tr>\n    <tr>\n      <th>4</th>\n      <td>Burger game strong \ud83d\udcaa</td>\n      <td>1</td>\n      <td>0</td>\n      <td>5ab575fb6bdee65f759da8c1</td>\n    </tr>\n    <tr>\n      <th>5</th>\n      <td>Great burgers &amp; fries! Also, this place is exactly what it\u2019s like when you go to a bar in the Southwest. Source: I\u2019m from Arizona.</td>\n      <td>2</td>\n      <td>0</td>\n      <td>5ab5575d73fe2516ad8f363b</td>\n    </tr>\n    <tr>\n      <th>6</th>\n      <td>A\u00e7a\u00ed bowl + peanut butter + whey protein = \ud83d\udcaa\ud83d\udcaa\ud83d\udcaa</td>\n      <td>1</td>\n      <td>0</td>\n      <td>5ab42db53c858d64af2688a4</td>\n    </tr>\n    <tr>\n      <th>7</th>\n      <td>Highly underrated and way less crowded than Central Park!</td>\n      <td>3</td>\n      <td>0</td>\n      <td>5ab42c396f706a29f53ad1a8</td>\n    </tr>\n    <tr>\n      <th>8</th>\n      <td>Way easier to navigate than the Met proper, plus the Met Breuer focuses on modern art. If I only have a limited amount of time to spend in a museum, I would rather go here than anywhere else!</td>\n      <td>6</td>\n      <td>0</td>\n      <td>5ab42b987dc9e17930e5ff5b</td>\n    </tr>\n    <tr>\n      <th>9</th>\n      <td>Get the a\u00e7a\u00ed bowl with peanut butter after your work out and thank me later \ud83d\udc4c</td>\n      <td>1</td>\n      <td>0</td>\n      <td>5ab42aca2a7ab6333652b266</td>\n    </tr>\n    <tr>\n      <th>10</th>\n      <td>When you want a burger, this should be the first thing that comes to mind. A+!</td>\n      <td>1</td>\n      <td>0</td>\n      <td>5ab42a28da5e5617d18e3a6a</td>\n    </tr>\n    <tr>\n      <th>11</th>\n      <td>Way less crowded than Central Park! People who live in the neighborhood rave about Carl Schurz Park.</td>\n      <td>3</td>\n      <td>0</td>\n      <td>5ab429db1ffe971b060083f5</td>\n    </tr>\n    <tr>\n      <th>12</th>\n      <td>The best Mexican food in the Murray Hill / Kips Bay area!</td>\n      <td>1</td>\n      <td>0</td>\n      <td>5ab3f53f8496ca57542d5549</td>\n    </tr>\n    <tr>\n      <th>13</th>\n      <td>Best coffee shop in the neighborhood!</td>\n      <td>1</td>\n      <td>0</td>\n      <td>5ab3f428da5e5617d17d1475</td>\n    </tr>\n    <tr>\n      <th>14</th>\n      <td>When there\u2019s nice weather, the rooftop at Tonic East is the best place to watch the game. Perfect for March Madness &amp; NBA finals!</td>\n      <td>2</td>\n      <td>0</td>\n      <td>5ab3f3fedd70c572de886c9d</td>\n    </tr>\n  </tbody>\n</table>\n</div>",
                        "text/plain": "                                                                                                                                                                                               text  \\\n0   They serve coffee!!!!!!                                                                                                                                                                           \n1   Quick, cheap lunch that tastes good! Way shorter line than Chipotle, too.                                                                                                                         \n2   You\u2019re not a real New Yorker until you\u2019ve shame-ordered Insomnia Cookies for delivery at 3am                                                                                                      \n3   Good for you yet still tasty! Clean green protein is my go-to after I hit the gym \ud83d\udcaa                                                                                                               \n4   Burger game strong \ud83d\udcaa                                                                                                                                                                              \n5   Great burgers & fries! Also, this place is exactly what it\u2019s like when you go to a bar in the Southwest. Source: I\u2019m from Arizona.                                                                \n6   A\u00e7a\u00ed bowl + peanut butter + whey protein = \ud83d\udcaa\ud83d\udcaa\ud83d\udcaa                                                                                                                                                    \n7   Highly underrated and way less crowded than Central Park!                                                                                                                                         \n8   Way easier to navigate than the Met proper, plus the Met Breuer focuses on modern art. If I only have a limited amount of time to spend in a museum, I would rather go here than anywhere else!   \n9   Get the a\u00e7a\u00ed bowl with peanut butter after your work out and thank me later \ud83d\udc4c                                                                                                                     \n10  When you want a burger, this should be the first thing that comes to mind. A+!                                                                                                                    \n11  Way less crowded than Central Park! People who live in the neighborhood rave about Carl Schurz Park.                                                                                              \n12  The best Mexican food in the Murray Hill / Kips Bay area!                                                                                                                                         \n13  Best coffee shop in the neighborhood!                                                                                                                                                             \n14  When there\u2019s nice weather, the rooftop at Tonic East is the best place to watch the game. Perfect for March Madness & NBA finals!                                                                 \n\n    agreeCount  disagreeCount                        id  \n0   1           0              5accc98c0313204c9d7ec157  \n1   2           0              5acbec70a0215b732e264fe8  \n2   1           0              5acbbd4eb1538e45373b07f5  \n3   2           0              5acbbcda01235808d5d6dc75  \n4   1           0              5ab575fb6bdee65f759da8c1  \n5   2           0              5ab5575d73fe2516ad8f363b  \n6   1           0              5ab42db53c858d64af2688a4  \n7   3           0              5ab42c396f706a29f53ad1a8  \n8   6           0              5ab42b987dc9e17930e5ff5b  \n9   1           0              5ab42aca2a7ab6333652b266  \n10  1           0              5ab42a28da5e5617d18e3a6a  \n11  3           0              5ab429db1ffe971b060083f5  \n12  1           0              5ab3f53f8496ca57542d5549  \n13  1           0              5ab3f428da5e5617d17d1475  \n14  2           0              5ab3f3fedd70c572de886c9d  "
                    },
                    "execution_count": 37,
                    "metadata": {},
                    "output_type": "execute_result"
                }
            ],
            "source": "# define tips URL\nurl = 'https://api.foursquare.com/v2/users/{}/tips?client_id={}&client_secret={}&v={}&limit={}'.format(user_id, CLIENT_ID, CLIENT_SECRET, VERSION, limit)\n\n# send GET request and get user's tips\nresults = requests.get(url).json()\ntips = results['response']['tips']['items']\n\n# format column width\npd.set_option('display.max_colwidth', -1)\n\ntips_df = json_normalize(tips)\n\n# filter columns\nfiltered_columns = ['text', 'agreeCount', 'disagreeCount', 'id']\ntips_filtered = tips_df.loc[:, filtered_columns]\n\n# display user's tips\ntips_filtered"
        },
        {
            "cell_type": "markdown",
            "metadata": {
                "button": false,
                "new_sheet": false,
                "run_control": {
                    "read_only": false
                }
            },
            "source": "#### Let's get the venue for the tip with the greatest number of agree counts"
        },
        {
            "cell_type": "code",
            "execution_count": 38,
            "metadata": {
                "button": false,
                "new_sheet": false,
                "run_control": {
                    "read_only": false
                }
            },
            "outputs": [
                {
                    "name": "stdout",
                    "output_type": "stream",
                    "text": "Cowgirl\n{'address': '519 Hudson St', 'crossStreet': 'at W 10th St', 'lat': 40.73373338282062, 'lng': -74.0062998849649, 'labeledLatLngs': [{'label': 'display', 'lat': 40.73373338282062, 'lng': -74.0062998849649}], 'postalCode': '10014', 'cc': 'US', 'city': 'New York', 'state': 'NY', 'country': 'United States', 'formattedAddress': ['519 Hudson St (at W 10th St)', 'New York, NY 10014', 'United States']}\n"
                }
            ],
            "source": "tip_id = '5ab5575d73fe2516ad8f363b' # tip id\n\n# define URL\nurl = 'http://api.foursquare.com/v2/tips/{}?client_id={}&client_secret={}&v={}'.format(tip_id, CLIENT_ID, CLIENT_SECRET, VERSION)\n\n# send GET Request and examine results\nresult = requests.get(url).json()\nprint(result['response']['tip']['venue']['name'])\nprint(result['response']['tip']['venue']['location'])"
        },
        {
            "cell_type": "markdown",
            "metadata": {
                "button": false,
                "new_sheet": false,
                "run_control": {
                    "read_only": false
                }
            },
            "source": "### Get User's friends"
        },
        {
            "cell_type": "code",
            "execution_count": null,
            "metadata": {
                "button": false,
                "new_sheet": false,
                "run_control": {
                    "read_only": false
                },
                "scrolled": false
            },
            "outputs": [],
            "source": "user_friends = json_normalize(user_data['friends']['groups'][0]['items'])\nuser_friends"
        },
        {
            "cell_type": "markdown",
            "metadata": {
                "button": false,
                "new_sheet": false,
                "run_control": {
                    "read_only": false
                }
            },
            "source": "Interesting. Despite being very active, it turns out that Nick does not have any friends on Foursquare. This might definitely change in the future."
        },
        {
            "cell_type": "markdown",
            "metadata": {
                "button": false,
                "new_sheet": false,
                "run_control": {
                    "read_only": false
                }
            },
            "source": "### Retrieve the User's Profile Image"
        },
        {
            "cell_type": "code",
            "execution_count": null,
            "metadata": {
                "button": false,
                "new_sheet": false,
                "run_control": {
                    "read_only": false
                },
                "scrolled": true
            },
            "outputs": [],
            "source": "user_data"
        },
        {
            "cell_type": "code",
            "execution_count": 42,
            "metadata": {
                "button": false,
                "new_sheet": false,
                "run_control": {
                    "read_only": false
                }
            },
            "outputs": [
                {
                    "data": {
                        "text/html": "<img src=\"https://igx.4sqi.net/img/user/300x300/484542633_mK2Yum7T_7Tn9fWpndidJsmw2Hof_6T5vJBKCHPLMK5OL-U5ZiJGj51iwBstcpDLYa3Zvhvis.jpg\"/>",
                        "text/plain": "<IPython.core.display.Image object>"
                    },
                    "execution_count": 42,
                    "metadata": {},
                    "output_type": "execute_result"
                }
            ],
            "source": "# 1. grab prefix of photo\n# 2. grab suffix of photo\n# 3. concatenate them using the image size  \nImage(url='https://igx.4sqi.net/img/user/300x300/484542633_mK2Yum7T_7Tn9fWpndidJsmw2Hof_6T5vJBKCHPLMK5OL-U5ZiJGj51iwBstcpDLYa3Zvhvis.jpg')"
        },
        {
            "cell_type": "markdown",
            "metadata": {
                "button": false,
                "new_sheet": false,
                "run_control": {
                    "read_only": false
                }
            },
            "source": "  "
        },
        {
            "cell_type": "markdown",
            "metadata": {
                "button": false,
                "new_sheet": false,
                "run_control": {
                    "read_only": false
                }
            },
            "source": "<a id=\"item4\"></a>"
        },
        {
            "cell_type": "markdown",
            "metadata": {
                "button": false,
                "new_sheet": false,
                "run_control": {
                    "read_only": false
                }
            },
            "source": "## 4. Explore a location\n> `https://api.foursquare.com/v2/venues/`**explore**`?client_id=`**CLIENT_ID**`&client_secret=`**CLIENT_SECRET**`&ll=`**LATITUDE**`,`**LONGITUDE**`&v=`**VERSION**`&limit=`**LIMIT**"
        },
        {
            "cell_type": "markdown",
            "metadata": {
                "button": false,
                "new_sheet": false,
                "run_control": {
                    "read_only": false
                }
            },
            "source": "#### So, you just finished your gourmet dish at Ecco, and are just curious about the popular spots around the restaurant. In order to explore the area, let's start by getting the latitude and longitude values of Ecco Restaurant."
        },
        {
            "cell_type": "code",
            "execution_count": 43,
            "metadata": {
                "button": false,
                "new_sheet": false,
                "run_control": {
                    "read_only": false
                }
            },
            "outputs": [],
            "source": "latitude = 40.715337\nlongitude = -74.008848"
        },
        {
            "cell_type": "markdown",
            "metadata": {
                "button": false,
                "new_sheet": false,
                "run_control": {
                    "read_only": false
                }
            },
            "source": "#### Define URL"
        },
        {
            "cell_type": "code",
            "execution_count": 44,
            "metadata": {
                "button": false,
                "new_sheet": false,
                "run_control": {
                    "read_only": false
                }
            },
            "outputs": [
                {
                    "data": {
                        "text/plain": "'https://api.foursquare.com/v2/venues/explore?client_id=EZUCSVCTPAWJTAGVHIP2GM5LHRXH03D54VXUUPECMO2AAFQV&client_secret=KE4C1V0NGPXD5HTFDU34XHG0DPNNFVMK34EWOFLFBUU20QOQ&ll=40.715337,-74.008848&v=20180604&radius=500&limit=30'"
                    },
                    "execution_count": 44,
                    "metadata": {},
                    "output_type": "execute_result"
                }
            ],
            "source": "url = 'https://api.foursquare.com/v2/venues/explore?client_id={}&client_secret={}&ll={},{}&v={}&radius={}&limit={}'.format(CLIENT_ID, CLIENT_SECRET, latitude, longitude, VERSION, radius, LIMIT)\nurl"
        },
        {
            "cell_type": "markdown",
            "metadata": {
                "button": false,
                "new_sheet": false,
                "run_control": {
                    "read_only": false
                }
            },
            "source": "#### Send GET request and examine results"
        },
        {
            "cell_type": "code",
            "execution_count": 45,
            "metadata": {
                "button": false,
                "new_sheet": false,
                "run_control": {
                    "read_only": false
                }
            },
            "outputs": [],
            "source": "import requests"
        },
        {
            "cell_type": "code",
            "execution_count": 46,
            "metadata": {
                "button": false,
                "new_sheet": false,
                "run_control": {
                    "read_only": false
                }
            },
            "outputs": [
                {
                    "data": {
                        "text/plain": "'There are 30 around Ecco restaurant.'"
                    },
                    "execution_count": 46,
                    "metadata": {},
                    "output_type": "execute_result"
                }
            ],
            "source": "results = requests.get(url).json()\n'There are {} around Ecco restaurant.'.format(len(results['response']['groups'][0]['items']))"
        },
        {
            "cell_type": "markdown",
            "metadata": {
                "button": false,
                "new_sheet": false,
                "run_control": {
                    "read_only": false
                }
            },
            "source": "#### Get relevant part of JSON"
        },
        {
            "cell_type": "code",
            "execution_count": 47,
            "metadata": {
                "button": false,
                "new_sheet": false,
                "run_control": {
                    "read_only": false
                }
            },
            "outputs": [
                {
                    "data": {
                        "text/plain": "{'reasons': {'count': 0,\n  'items': [{'summary': 'This spot is popular',\n    'type': 'general',\n    'reasonName': 'globalInteractionReason'}]},\n 'venue': {'id': '54148bc6498ea7bb8c05b70a',\n  'name': 'Juice Press',\n  'location': {'address': '83 Murray St',\n   'crossStreet': 'btwn Greenwich St & W Broadway',\n   'lat': 40.71478769908051,\n   'lng': -74.0111317502157,\n   'labeledLatLngs': [{'label': 'display',\n     'lat': 40.71478769908051,\n     'lng': -74.0111317502157}],\n   'distance': 202,\n   'postalCode': '10007',\n   'cc': 'US',\n   'city': 'New York',\n   'state': 'NY',\n   'country': 'United States',\n   'formattedAddress': ['83 Murray St (btwn Greenwich St & W Broadway)',\n    'New York, NY 10007',\n    'United States']},\n  'categories': [{'id': '4bf58dd8d48988d1d3941735',\n    'name': 'Vegetarian / Vegan Restaurant',\n    'pluralName': 'Vegetarian / Vegan Restaurants',\n    'shortName': 'Vegetarian / Vegan',\n    'icon': {'prefix': 'https://ss3.4sqi.net/img/categories_v2/food/vegetarian_',\n     'suffix': '.png'},\n    'primary': True}],\n  'photos': {'count': 0, 'groups': []}},\n 'referralId': 'e-0-54148bc6498ea7bb8c05b70a-0'}"
                    },
                    "execution_count": 47,
                    "metadata": {},
                    "output_type": "execute_result"
                }
            ],
            "source": "items = results['response']['groups'][0]['items']\nitems[0]"
        },
        {
            "cell_type": "markdown",
            "metadata": {
                "button": false,
                "new_sheet": false,
                "run_control": {
                    "read_only": false
                }
            },
            "source": "#### Process JSON and convert it to a clean dataframe"
        },
        {
            "cell_type": "code",
            "execution_count": 48,
            "metadata": {
                "button": false,
                "new_sheet": false,
                "run_control": {
                    "read_only": false
                },
                "scrolled": false
            },
            "outputs": [
                {
                    "data": {
                        "text/html": "<div>\n<style scoped>\n    .dataframe tbody tr th:only-of-type {\n        vertical-align: middle;\n    }\n\n    .dataframe tbody tr th {\n        vertical-align: top;\n    }\n\n    .dataframe thead th {\n        text-align: right;\n    }\n</style>\n<table border=\"1\" class=\"dataframe\">\n  <thead>\n    <tr style=\"text-align: right;\">\n      <th></th>\n      <th>name</th>\n      <th>categories</th>\n      <th>address</th>\n      <th>cc</th>\n      <th>city</th>\n      <th>country</th>\n      <th>crossStreet</th>\n      <th>distance</th>\n      <th>formattedAddress</th>\n      <th>labeledLatLngs</th>\n      <th>lat</th>\n      <th>lng</th>\n      <th>neighborhood</th>\n      <th>postalCode</th>\n      <th>state</th>\n      <th>id</th>\n    </tr>\n  </thead>\n  <tbody>\n    <tr>\n      <th>0</th>\n      <td>Juice Press</td>\n      <td>Vegetarian / Vegan Restaurant</td>\n      <td>83 Murray St</td>\n      <td>US</td>\n      <td>New York</td>\n      <td>United States</td>\n      <td>btwn Greenwich St &amp; W Broadway</td>\n      <td>202</td>\n      <td>[83 Murray St (btwn Greenwich St &amp; W Broadway), New York, NY 10007, United States]</td>\n      <td>[{'label': 'display', 'lat': 40.71478769908051, 'lng': -74.0111317502157}]</td>\n      <td>40.714788</td>\n      <td>-74.011132</td>\n      <td>NaN</td>\n      <td>10007</td>\n      <td>NY</td>\n      <td>54148bc6498ea7bb8c05b70a</td>\n    </tr>\n    <tr>\n      <th>1</th>\n      <td>Korin</td>\n      <td>Furniture / Home Store</td>\n      <td>57 Warren St</td>\n      <td>US</td>\n      <td>New York</td>\n      <td>United States</td>\n      <td>Church St</td>\n      <td>73</td>\n      <td>[57 Warren St (Church St), New York, NY 10007, United States]</td>\n      <td>[{'label': 'display', 'lat': 40.71482437714839, 'lng': -74.00940425461492}, {'label': 'entrance', 'lat': 40.714727, 'lng': -74.009399}]</td>\n      <td>40.714824</td>\n      <td>-74.009404</td>\n      <td>Tribeca</td>\n      <td>10007</td>\n      <td>NY</td>\n      <td>4af5d65ff964a52091fd21e3</td>\n    </tr>\n    <tr>\n      <th>2</th>\n      <td>Los Tacos No. 1</td>\n      <td>Taco Place</td>\n      <td>136 Church St</td>\n      <td>US</td>\n      <td>New York</td>\n      <td>United States</td>\n      <td>NaN</td>\n      <td>119</td>\n      <td>[136 Church St, New York, NY 10007, United States]</td>\n      <td>[{'label': 'display', 'lat': 40.714267, 'lng': -74.008756}]</td>\n      <td>40.714267</td>\n      <td>-74.008756</td>\n      <td>NaN</td>\n      <td>10007</td>\n      <td>NY</td>\n      <td>5d5f24ec09484500079aee00</td>\n    </tr>\n    <tr>\n      <th>3</th>\n      <td>Takahachi Bakery</td>\n      <td>Bakery</td>\n      <td>25 Murray St</td>\n      <td>US</td>\n      <td>New York</td>\n      <td>United States</td>\n      <td>at Church St</td>\n      <td>187</td>\n      <td>[25 Murray St (at Church St), New York, NY 10007, United States]</td>\n      <td>[{'label': 'display', 'lat': 40.713652845301894, 'lng': -74.0088038953017}, {'label': 'entrance', 'lat': 40.713716, 'lng': -74.008443}]</td>\n      <td>40.713653</td>\n      <td>-74.008804</td>\n      <td>NaN</td>\n      <td>10007</td>\n      <td>NY</td>\n      <td>4c154c9a77cea593c401d260</td>\n    </tr>\n    <tr>\n      <th>4</th>\n      <td>Takahachi</td>\n      <td>Sushi Restaurant</td>\n      <td>145 Duane St</td>\n      <td>US</td>\n      <td>New York</td>\n      <td>United States</td>\n      <td>btwn W Broadway &amp; Church St</td>\n      <td>146</td>\n      <td>[145 Duane St (btwn W Broadway &amp; Church St), New York, NY 10013, United States]</td>\n      <td>[{'label': 'display', 'lat': 40.71652647412374, 'lng': -74.00810108466207}, {'label': 'entrance', 'lat': 40.716508, 'lng': -74.007989}]</td>\n      <td>40.716526</td>\n      <td>-74.008101</td>\n      <td>NaN</td>\n      <td>10013</td>\n      <td>NY</td>\n      <td>4a8f2f39f964a520471420e3</td>\n    </tr>\n    <tr>\n      <th>5</th>\n      <td>Equinox Tribeca</td>\n      <td>Gym</td>\n      <td>54 Murray St</td>\n      <td>US</td>\n      <td>New York</td>\n      <td>United States</td>\n      <td>at W Broadway</td>\n      <td>154</td>\n      <td>[54 Murray St (at W Broadway), New York, NY 10007, United States]</td>\n      <td>[{'label': 'display', 'lat': 40.71409860726041, 'lng': -74.0096857179283}]</td>\n      <td>40.714099</td>\n      <td>-74.009686</td>\n      <td>NaN</td>\n      <td>10007</td>\n      <td>NY</td>\n      <td>4a6e331af964a52031d41fe3</td>\n    </tr>\n    <tr>\n      <th>6</th>\n      <td>Whole Foods Market</td>\n      <td>Grocery Store</td>\n      <td>270 Greenwich Street</td>\n      <td>US</td>\n      <td>New York</td>\n      <td>United States</td>\n      <td>at Warren St</td>\n      <td>214</td>\n      <td>[270 Greenwich Street (at Warren St), New York, NY 10007, United States]</td>\n      <td>[{'label': 'display', 'lat': 40.715579155420606, 'lng': -74.01136823958119}]</td>\n      <td>40.715579</td>\n      <td>-74.011368</td>\n      <td>Tribeca</td>\n      <td>10007</td>\n      <td>NY</td>\n      <td>49bc3b0af964a52020541fe3</td>\n    </tr>\n    <tr>\n      <th>7</th>\n      <td>Heyday</td>\n      <td>Spa</td>\n      <td>92 Reade St</td>\n      <td>US</td>\n      <td>New York</td>\n      <td>United States</td>\n      <td>NaN</td>\n      <td>100</td>\n      <td>[92 Reade St, New York, NY 10013, United States]</td>\n      <td>[{'label': 'display', 'lat': 40.715726, 'lng': -74.007767}, {'label': 'entrance', 'lat': 40.715654, 'lng': -74.00782}]</td>\n      <td>40.715726</td>\n      <td>-74.007767</td>\n      <td>NaN</td>\n      <td>10013</td>\n      <td>NY</td>\n      <td>57ad129c498e05b086594d72</td>\n    </tr>\n    <tr>\n      <th>8</th>\n      <td>Chambers Street Wines</td>\n      <td>Wine Shop</td>\n      <td>148 Chambers St</td>\n      <td>US</td>\n      <td>New York</td>\n      <td>United States</td>\n      <td>btwn West Broadway &amp; Hudson St</td>\n      <td>88</td>\n      <td>[148 Chambers St (btwn West Broadway &amp; Hudson St), New York, NY 10007, United States]</td>\n      <td>[{'label': 'display', 'lat': 40.715773063928374, 'lng': -74.00971823312332}, {'label': 'entrance', 'lat': 40.715696, 'lng': -74.00988}]</td>\n      <td>40.715773</td>\n      <td>-74.009718</td>\n      <td>NaN</td>\n      <td>10007</td>\n      <td>NY</td>\n      <td>4adcf23cf964a520cc6221e3</td>\n    </tr>\n    <tr>\n      <th>9</th>\n      <td>Mulberry &amp; Vine</td>\n      <td>Caf\u00e9</td>\n      <td>73 Warren St</td>\n      <td>US</td>\n      <td>New York</td>\n      <td>United States</td>\n      <td>B/t West Broadway &amp; Greenwich</td>\n      <td>117</td>\n      <td>[73 Warren St (B/t West Broadway &amp; Greenwich), New York, NY 10007, United States]</td>\n      <td>[{'label': 'display', 'lat': 40.71517693966315, 'lng': -74.01022747778285}, {'label': 'entrance', 'lat': 40.715064, 'lng': -74.010146}]</td>\n      <td>40.715177</td>\n      <td>-74.010227</td>\n      <td>NaN</td>\n      <td>10007</td>\n      <td>NY</td>\n      <td>5171b5cc011cef9833bbb787</td>\n    </tr>\n  </tbody>\n</table>\n</div>",
                        "text/plain": "                    name                     categories               address  \\\n0  Juice Press            Vegetarian / Vegan Restaurant  83 Murray St           \n1  Korin                  Furniture / Home Store         57 Warren St           \n2  Los Tacos No. 1        Taco Place                     136 Church St          \n3  Takahachi Bakery       Bakery                         25 Murray St           \n4  Takahachi              Sushi Restaurant               145 Duane St           \n5  Equinox Tribeca        Gym                            54 Murray St           \n6  Whole Foods Market     Grocery Store                  270 Greenwich Street   \n7  Heyday                 Spa                            92 Reade St            \n8  Chambers Street Wines  Wine Shop                      148 Chambers St        \n9  Mulberry & Vine        Caf\u00e9                           73 Warren St           \n\n   cc      city        country                     crossStreet  distance  \\\n0  US  New York  United States  btwn Greenwich St & W Broadway  202        \n1  US  New York  United States  Church St                       73         \n2  US  New York  United States  NaN                             119        \n3  US  New York  United States  at Church St                    187        \n4  US  New York  United States  btwn W Broadway & Church St     146        \n5  US  New York  United States  at W Broadway                   154        \n6  US  New York  United States  at Warren St                    214        \n7  US  New York  United States  NaN                             100        \n8  US  New York  United States  btwn West Broadway & Hudson St  88         \n9  US  New York  United States  B/t West Broadway & Greenwich   117        \n\n                                                                        formattedAddress  \\\n0  [83 Murray St (btwn Greenwich St & W Broadway), New York, NY 10007, United States]      \n1  [57 Warren St (Church St), New York, NY 10007, United States]                           \n2  [136 Church St, New York, NY 10007, United States]                                      \n3  [25 Murray St (at Church St), New York, NY 10007, United States]                        \n4  [145 Duane St (btwn W Broadway & Church St), New York, NY 10013, United States]         \n5  [54 Murray St (at W Broadway), New York, NY 10007, United States]                       \n6  [270 Greenwich Street (at Warren St), New York, NY 10007, United States]                \n7  [92 Reade St, New York, NY 10013, United States]                                        \n8  [148 Chambers St (btwn West Broadway & Hudson St), New York, NY 10007, United States]   \n9  [73 Warren St (B/t West Broadway & Greenwich), New York, NY 10007, United States]       \n\n                                                                                                                            labeledLatLngs  \\\n0  [{'label': 'display', 'lat': 40.71478769908051, 'lng': -74.0111317502157}]                                                                \n1  [{'label': 'display', 'lat': 40.71482437714839, 'lng': -74.00940425461492}, {'label': 'entrance', 'lat': 40.714727, 'lng': -74.009399}]   \n2  [{'label': 'display', 'lat': 40.714267, 'lng': -74.008756}]                                                                               \n3  [{'label': 'display', 'lat': 40.713652845301894, 'lng': -74.0088038953017}, {'label': 'entrance', 'lat': 40.713716, 'lng': -74.008443}]   \n4  [{'label': 'display', 'lat': 40.71652647412374, 'lng': -74.00810108466207}, {'label': 'entrance', 'lat': 40.716508, 'lng': -74.007989}]   \n5  [{'label': 'display', 'lat': 40.71409860726041, 'lng': -74.0096857179283}]                                                                \n6  [{'label': 'display', 'lat': 40.715579155420606, 'lng': -74.01136823958119}]                                                              \n7  [{'label': 'display', 'lat': 40.715726, 'lng': -74.007767}, {'label': 'entrance', 'lat': 40.715654, 'lng': -74.00782}]                    \n8  [{'label': 'display', 'lat': 40.715773063928374, 'lng': -74.00971823312332}, {'label': 'entrance', 'lat': 40.715696, 'lng': -74.00988}]   \n9  [{'label': 'display', 'lat': 40.71517693966315, 'lng': -74.01022747778285}, {'label': 'entrance', 'lat': 40.715064, 'lng': -74.010146}]   \n\n         lat        lng neighborhood postalCode state  \\\n0  40.714788 -74.011132  NaN          10007      NY     \n1  40.714824 -74.009404  Tribeca      10007      NY     \n2  40.714267 -74.008756  NaN          10007      NY     \n3  40.713653 -74.008804  NaN          10007      NY     \n4  40.716526 -74.008101  NaN          10013      NY     \n5  40.714099 -74.009686  NaN          10007      NY     \n6  40.715579 -74.011368  Tribeca      10007      NY     \n7  40.715726 -74.007767  NaN          10013      NY     \n8  40.715773 -74.009718  NaN          10007      NY     \n9  40.715177 -74.010227  NaN          10007      NY     \n\n                         id  \n0  54148bc6498ea7bb8c05b70a  \n1  4af5d65ff964a52091fd21e3  \n2  5d5f24ec09484500079aee00  \n3  4c154c9a77cea593c401d260  \n4  4a8f2f39f964a520471420e3  \n5  4a6e331af964a52031d41fe3  \n6  49bc3b0af964a52020541fe3  \n7  57ad129c498e05b086594d72  \n8  4adcf23cf964a520cc6221e3  \n9  5171b5cc011cef9833bbb787  "
                    },
                    "execution_count": 48,
                    "metadata": {},
                    "output_type": "execute_result"
                }
            ],
            "source": "dataframe = json_normalize(items) # flatten JSON\n\n# filter columns\nfiltered_columns = ['venue.name', 'venue.categories'] + [col for col in dataframe.columns if col.startswith('venue.location.')] + ['venue.id']\ndataframe_filtered = dataframe.loc[:, filtered_columns]\n\n# filter the category for each row\ndataframe_filtered['venue.categories'] = dataframe_filtered.apply(get_category_type, axis=1)\n\n# clean columns\ndataframe_filtered.columns = [col.split('.')[-1] for col in dataframe_filtered.columns]\n\ndataframe_filtered.head(10)"
        },
        {
            "cell_type": "markdown",
            "metadata": {
                "button": false,
                "new_sheet": false,
                "run_control": {
                    "read_only": false
                }
            },
            "source": "#### Let's visualize these items on the map around our location"
        },
        {
            "cell_type": "code",
            "execution_count": 49,
            "metadata": {
                "button": false,
                "new_sheet": false,
                "run_control": {
                    "read_only": false
                }
            },
            "outputs": [
                {
                    "data": {
                        "text/html": "<div style=\"width:100%;\"><div style=\"position:relative;width:100%;height:0;padding-bottom:60%;\"><span style=\"color:#565656\">Make this Notebook Trusted to load map: File -> Trust Notebook</span><iframe src=\"about:blank\" style=\"position:absolute;width:100%;height:100%;left:0;top:0;border:none !important;\" data-html=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 onload=\"this.contentDocument.open();this.contentDocument.write(atob(this.getAttribute('data-html')));this.contentDocument.close();\" allowfullscreen webkitallowfullscreen mozallowfullscreen></iframe></div></div>",
                        "text/plain": "<folium.folium.Map at 0x7f02f217d8d0>"
                    },
                    "execution_count": 49,
                    "metadata": {},
                    "output_type": "execute_result"
                }
            ],
            "source": "venues_map = folium.Map(location=[latitude, longitude], zoom_start=15) # generate map centred around Ecco\n\n\n# add Ecco as a red circle mark\nfolium.features.CircleMarker(\n    [latitude, longitude],\n    radius=10,\n    popup='Ecco',\n    fill=True,\n    color='red',\n    fill_color='red',\n    fill_opacity=0.6\n    ).add_to(venues_map)\n\n\n# add popular spots to the map as blue circle markers\nfor lat, lng, label in zip(dataframe_filtered.lat, dataframe_filtered.lng, dataframe_filtered.categories):\n    folium.features.CircleMarker(\n        [lat, lng],\n        radius=5,\n        popup=label,\n        fill=True,\n        color='blue',\n        fill_color='blue',\n        fill_opacity=0.6\n        ).add_to(venues_map)\n\n# display map\nvenues_map"
        },
        {
            "cell_type": "markdown",
            "metadata": {
                "button": false,
                "new_sheet": false,
                "run_control": {
                    "read_only": false
                }
            },
            "source": "   "
        },
        {
            "cell_type": "markdown",
            "metadata": {
                "button": false,
                "new_sheet": false,
                "run_control": {
                    "read_only": false
                }
            },
            "source": "<a id=\"item5\"></a>"
        },
        {
            "cell_type": "markdown",
            "metadata": {
                "button": false,
                "new_sheet": false,
                "run_control": {
                    "read_only": false
                }
            },
            "source": "## 5. Explore Trending Venues\n> `https://api.foursquare.com/v2/venues/`**trending**`?client_id=`**CLIENT_ID**`&client_secret=`**CLIENT_SECRET**`&ll=`**LATITUDE**`,`**LONGITUDE**`&v=`**VERSION**"
        },
        {
            "cell_type": "markdown",
            "metadata": {
                "button": false,
                "new_sheet": false,
                "run_control": {
                    "read_only": false
                }
            },
            "source": "#### Now, instead of simply exploring the area around Ecco, you are interested in knowing the venues that are trending at the time you are done with your lunch, meaning the places with the highest foot traffic. So let's do that and get the trending venues around Ecco."
        },
        {
            "cell_type": "code",
            "execution_count": 50,
            "metadata": {
                "button": false,
                "new_sheet": false,
                "run_control": {
                    "read_only": false
                }
            },
            "outputs": [
                {
                    "data": {
                        "text/plain": "{'meta': {'code': 200, 'requestId': '5ec15af77828ae001bb1e2e2'},\n 'response': {'venues': []}}"
                    },
                    "execution_count": 50,
                    "metadata": {},
                    "output_type": "execute_result"
                }
            ],
            "source": "# define URL\nurl = 'https://api.foursquare.com/v2/venues/trending?client_id={}&client_secret={}&ll={},{}&v={}'.format(CLIENT_ID, CLIENT_SECRET, latitude, longitude, VERSION)\n\n# send GET request and get trending venues\nresults = requests.get(url).json()\nresults"
        },
        {
            "cell_type": "markdown",
            "metadata": {
                "button": false,
                "new_sheet": false,
                "run_control": {
                    "read_only": false
                }
            },
            "source": "### Check if any venues are trending at this time"
        },
        {
            "cell_type": "code",
            "execution_count": 51,
            "metadata": {
                "button": false,
                "new_sheet": false,
                "run_control": {
                    "read_only": false
                }
            },
            "outputs": [],
            "source": "if len(results['response']['venues']) == 0:\n    trending_venues_df = 'No trending venues are available at the moment!'\n    \nelse:\n    trending_venues = results['response']['venues']\n    trending_venues_df = json_normalize(trending_venues)\n\n    # filter columns\n    columns_filtered = ['name', 'categories'] + ['location.distance', 'location.city', 'location.postalCode', 'location.state', 'location.country', 'location.lat', 'location.lng']\n    trending_venues_df = trending_venues_df.loc[:, columns_filtered]\n\n    # filter the category for each row\n    trending_venues_df['categories'] = trending_venues_df.apply(get_category_type, axis=1)"
        },
        {
            "cell_type": "code",
            "execution_count": 52,
            "metadata": {
                "button": false,
                "new_sheet": false,
                "run_control": {
                    "read_only": false
                }
            },
            "outputs": [
                {
                    "data": {
                        "text/plain": "'No trending venues are available at the moment!'"
                    },
                    "execution_count": 52,
                    "metadata": {},
                    "output_type": "execute_result"
                }
            ],
            "source": "# display trending venues\ntrending_venues_df"
        },
        {
            "cell_type": "markdown",
            "metadata": {
                "button": false,
                "new_sheet": false,
                "run_control": {
                    "read_only": false
                }
            },
            "source": "Now, depending on when you run the above code, you might get different venues since the venues with the highest foot traffic are fetched live. "
        },
        {
            "cell_type": "markdown",
            "metadata": {
                "button": false,
                "new_sheet": false,
                "run_control": {
                    "read_only": false
                }
            },
            "source": "### Visualize trending venues"
        },
        {
            "cell_type": "code",
            "execution_count": 53,
            "metadata": {
                "button": false,
                "new_sheet": false,
                "run_control": {
                    "read_only": false
                }
            },
            "outputs": [],
            "source": "if len(results['response']['venues']) == 0:\n    venues_map = 'Cannot generate visual as no trending venues are available at the moment!'\n\nelse:\n    venues_map = folium.Map(location=[latitude, longitude], zoom_start=15) # generate map centred around Ecco\n\n\n    # add Ecco as a red circle mark\n    folium.features.CircleMarker(\n        [latitude, longitude],\n        radius=10,\n        popup='Ecco',\n        fill=True,\n        color='red',\n        fill_color='red',\n        fill_opacity=0.6\n    ).add_to(venues_map)\n\n\n    # add the trending venues as blue circle markers\n    for lat, lng, label in zip(trending_venues_df['location.lat'], trending_venues_df['location.lng'], trending_venues_df['name']):\n        folium.features.CircleMarker(\n            [lat, lng],\n            radius=5,\n            poup=label,\n            fill=True,\n            color='blue',\n            fill_color='blue',\n            fill_opacity=0.6\n        ).add_to(venues_map)"
        },
        {
            "cell_type": "code",
            "execution_count": 54,
            "metadata": {
                "button": false,
                "new_sheet": false,
                "run_control": {
                    "read_only": false
                },
                "scrolled": false
            },
            "outputs": [
                {
                    "data": {
                        "text/plain": "'Cannot generate visual as no trending venues are available at the moment!'"
                    },
                    "execution_count": 54,
                    "metadata": {},
                    "output_type": "execute_result"
                }
            ],
            "source": "# display map\nvenues_map"
        },
        {
            "cell_type": "markdown",
            "metadata": {
                "button": false,
                "new_sheet": false,
                "run_control": {
                    "read_only": false
                }
            },
            "source": "<a id=\"item6\"></a>"
        },
        {
            "cell_type": "markdown",
            "metadata": {
                "button": false,
                "new_sheet": false,
                "run_control": {
                    "read_only": false
                }
            },
            "source": "   "
        },
        {
            "cell_type": "markdown",
            "metadata": {
                "button": false,
                "new_sheet": false,
                "run_control": {
                    "read_only": false
                }
            },
            "source": "### Thank you for completing this lab!\n\nThis notebook was created by [Alex Aklson](https://www.linkedin.com/in/aklson/). I hope you found this lab interesting and educational. Feel free to contact me if you have any questions!"
        },
        {
            "cell_type": "markdown",
            "metadata": {
                "button": false,
                "new_sheet": false,
                "run_control": {
                    "read_only": false
                }
            },
            "source": "This notebook is part of a course on **Coursera** called *Applied Data Science Capstone*. If you accessed this notebook outside the course, you can take this course online by clicking [here](http://cocl.us/DP0701EN_Coursera_Week2_LAB1)."
        },
        {
            "cell_type": "markdown",
            "metadata": {
                "button": false,
                "new_sheet": false,
                "run_control": {
                    "read_only": false
                }
            },
            "source": "<hr>\nCopyright &copy; 2018 [Cognitive Class](https://cognitiveclass.ai/?utm_source=bducopyrightlink&utm_medium=dswb&utm_campaign=bdu). This notebook and its source code are released under the terms of the [MIT License](https://bigdatauniversity.com/mit-license/)."
        }
    ],
    "metadata": {
        "kernelspec": {
            "display_name": "Python 3.6",
            "language": "python",
            "name": "python3"
        },
        "language_info": {
            "codemirror_mode": {
                "name": "ipython",
                "version": 3
            },
            "file_extension": ".py",
            "mimetype": "text/x-python",
            "name": "python",
            "nbconvert_exporter": "python",
            "pygments_lexer": "ipython3",
            "version": "3.6.9"
        },
        "widgets": {
            "state": {},
            "version": "1.1.2"
        }
    },
    "nbformat": 4,
    "nbformat_minor": 2
}